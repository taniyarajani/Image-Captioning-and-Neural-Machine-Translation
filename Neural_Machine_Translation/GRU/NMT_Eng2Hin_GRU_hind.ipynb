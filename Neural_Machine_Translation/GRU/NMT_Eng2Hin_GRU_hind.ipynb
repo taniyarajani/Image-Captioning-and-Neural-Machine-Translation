{
 "cells": [
  {
   "cell_type": "code",
   "execution_count": 0,
   "metadata": {
    "colab": {
     "base_uri": "https://localhost:8080/",
     "height": 125
    },
    "colab_type": "code",
    "id": "X7gRyyT2e_T6",
    "outputId": "388c1a47-8771-4caf-d71c-7422cdcdd047"
   },
   "outputs": [
    {
     "name": "stdout",
     "output_type": "stream",
     "text": [
      "Go to this URL in a browser: https://accounts.google.com/o/oauth2/auth?client_id=947318989803-6bn6qk8qdgf4n4g3pfee6491hc0brc4i.apps.googleusercontent.com&redirect_uri=urn%3aietf%3awg%3aoauth%3a2.0%3aoob&response_type=code&scope=email%20https%3a%2f%2fwww.googleapis.com%2fauth%2fdocs.test%20https%3a%2f%2fwww.googleapis.com%2fauth%2fdrive%20https%3a%2f%2fwww.googleapis.com%2fauth%2fdrive.photos.readonly%20https%3a%2f%2fwww.googleapis.com%2fauth%2fpeopleapi.readonly\n",
      "\n",
      "Enter your authorization code:\n",
      "··········\n",
      "Mounted at /content/drive\n"
     ]
    }
   ],
   "source": [
    "from google.colab import drive\n",
    "drive.mount('/content/drive')"
   ]
  },
  {
   "cell_type": "code",
   "execution_count": 0,
   "metadata": {
    "colab": {
     "base_uri": "https://localhost:8080/",
     "height": 316
    },
    "colab_type": "code",
    "id": "2cwnskIVfLKd",
    "outputId": "bcb353c5-f000-4665-e9e5-8a6fc7fe296d"
   },
   "outputs": [
    {
     "name": "stdout",
     "output_type": "stream",
     "text": [
      "/content/drive/My Drive/Colab Notebooks/Project_576\n",
      "total 1000890\n",
      "-rw------- 1 root root 145975841 Apr 27 00:33 decoder_nmt_13.pkl\n",
      "-rw------- 1 root root 145975857 Apr 26 22:42 decoder_nmt_LR1e-5_2ndep.pkl\n",
      "-rw------- 1 root root 145975849 Apr 26 10:54 decoder_nmt_LR1e-5_3ep.pkl\n",
      "-rw------- 1 root root 145975857 Apr 26 04:59 decoder_nmt.pkl\n",
      "-rw------- 1 root root  57338758 Apr 27 00:33 encoder_nmt_13.pkl\n",
      "-rw------- 1 root root  57338758 Apr 26 22:42 encoder_nmt_LR1e-5_2ndep.pkl\n",
      "-rw------- 1 root root  57338758 Apr 26 10:54 encoder_nmt_LR1e-5_3ep.pkl\n",
      "-rw------- 1 root root  57338758 Apr 26 04:59 encoder_nmt.pkl\n",
      "-rw------- 1 root root   3395237 Apr 26 22:56 Flickr8k.token.txt\n",
      "-rw------- 1 root root  45442087 Apr 26 22:48 hindencorp05.export.gz\n",
      "-rw------- 1 root root  72209027 Apr 26 22:56 hindencorp05.plaintext\n",
      "-rw------- 1 root root  23899723 Apr 26 22:48 hindencorp05.plaintext.gz\n",
      "-rw------- 1 root root  66672230 Apr 26 22:56 hindencorp05.txt\n",
      "-rw------- 1 root root     24933 Apr 27 05:22 Omesh_of_NMT_2_Shreiya.ipynb\n",
      "-rw------- 1 root root      4472 Apr 26 22:48 README.txt\n"
     ]
    }
   ],
   "source": [
    "%cd /content/drive/My\\ Drive/Colab\\ Notebooks/Project_576/\n",
    "!ls -la"
   ]
  },
  {
   "cell_type": "code",
   "execution_count": 0,
   "metadata": {
    "colab": {
     "base_uri": "https://localhost:8080/",
     "height": 105
    },
    "colab_type": "code",
    "id": "DG6Y_XoOIG_N",
    "outputId": "20180957-853d-4281-b5aa-82b6c44d441d"
   },
   "outputs": [
    {
     "name": "stdout",
     "output_type": "stream",
     "text": [
      "  % Total    % Received % Xferd  Average Speed   Time    Time     Time  Current\n",
      "                                 Dload  Upload   Total   Spent    Left  Speed\n",
      "100  4472  100  4472    0     0   3717      0  0:00:01  0:00:01 --:--:--  3720\n",
      "100 43.3M  100 43.3M    0     0  17.2M      0  0:00:02  0:00:02 --:--:-- 78.3M\n",
      "100 22.7M  100 22.7M    0     0  11.6M      0  0:00:01  0:00:01 --:--:-- 83.7M\n"
     ]
    }
   ],
   "source": [
    "!curl --remote-name-all https://lindat.mff.cuni.cz/repository/xmlui/bitstream/handle/11858/00-097C-0000-0023-625F-0{/README.txt,/hindencorp05.export.gz,/hindencorp05.plaintext.gz}"
   ]
  },
  {
   "cell_type": "code",
   "execution_count": 0,
   "metadata": {
    "colab": {
     "base_uri": "https://localhost:8080/",
     "height": 34
    },
    "colab_type": "code",
    "id": "lB4V6KE1IlF8",
    "outputId": "9c9f1ecb-0f6d-4390-8856-081ce1e27221"
   },
   "outputs": [
    {
     "name": "stdout",
     "output_type": "stream",
     "text": [
      "gzip: hindencorp05.plaintext already exists; do you wish to overwrite (y or n)? y\n"
     ]
    }
   ],
   "source": [
    "!gunzip -k hindencorp05.plaintext.gz"
   ]
  },
  {
   "cell_type": "code",
   "execution_count": 0,
   "metadata": {
    "colab": {},
    "colab_type": "code",
    "id": "Eyd-o5LnIlPO"
   },
   "outputs": [],
   "source": [
    "!cut -f 4- hindencorp05.plaintext > hindencorp05.txt"
   ]
  },
  {
   "cell_type": "code",
   "execution_count": 0,
   "metadata": {
    "colab": {},
    "colab_type": "code",
    "id": "Wq1-y6JAhdIZ"
   },
   "outputs": [],
   "source": [
    "from __future__ import unicode_literals, print_function, division\n",
    "from io import open\n",
    "import unicodedata\n",
    "import string\n",
    "import re\n",
    "import random\n",
    "\n",
    "import torch\n",
    "import torch.nn as nn\n",
    "from torch import optim\n",
    "import torch.nn.functional as F\n",
    "\n",
    "device = torch.device(\"cuda\" if torch.cuda.is_available() else \"cpu\")"
   ]
  },
  {
   "cell_type": "code",
   "execution_count": 0,
   "metadata": {
    "colab": {},
    "colab_type": "code",
    "id": "sdItkemNhhkN"
   },
   "outputs": [],
   "source": [
    "SOS_token = 0\n",
    "EOS_token = 1\n",
    "\n",
    "\n",
    "class Lang:\n",
    "    def __init__(self, name):\n",
    "        self.name = name\n",
    "        self.word2index = {}\n",
    "        self.word2count = {}\n",
    "        self.index2word = {0: \"SOS\", 1: \"EOS\"}\n",
    "        self.n_words = 2  # Count SOS and EOS\n",
    "\n",
    "    def addSentence(self, sentence):\n",
    "        for word in sentence.split(' '):\n",
    "            self.addWord(word)\n",
    "\n",
    "    def addWord(self, word):\n",
    "        if word not in self.word2index:\n",
    "            self.word2index[word] = self.n_words\n",
    "            self.word2count[word] = 1\n",
    "            self.index2word[self.n_words] = word\n",
    "            self.n_words += 1\n",
    "        else:\n",
    "            self.word2count[word] += 1\n"
   ]
  },
  {
   "cell_type": "code",
   "execution_count": 0,
   "metadata": {
    "colab": {},
    "colab_type": "code",
    "id": "w8svbdBZhjnR"
   },
   "outputs": [],
   "source": [
    "# Turn a Unicode string to plain ASCII, thanks to\n",
    "# http://stackoverflow.com/a/518232/2809427\n",
    "def unicodeToAscii(s):\n",
    "    return ''.join(\n",
    "        c for c in unicodedata.normalize('NFD', s)\n",
    "        if unicodedata.category(c) != 'Mn'\n",
    "    )\n",
    "\n",
    "# Lowercase, trim, and remove non-letter characters\n",
    "def normalizeString(s):\n",
    "    s = s.lower().strip()\n",
    "    s = re.sub(r\"([.!?])\", r\" \\1\", s)\n",
    "    table = str.maketrans('', '', string.punctuation)\n",
    "    s = s.translate(table)\n",
    "    s = re.sub(r\"[.!?]+\", r\" \", s)\n",
    "    return s"
   ]
  },
  {
   "cell_type": "code",
   "execution_count": 0,
   "metadata": {
    "colab": {},
    "colab_type": "code",
    "id": "u10-hkoRhmld"
   },
   "outputs": [],
   "source": [
    "def readLangs(lang1, lang2, reverse=False):\n",
    "    print(\"Reading lines...\")\n",
    "\n",
    "    # Read the file and split into lines\n",
    "    lines = open('hindencorp05.txt', encoding='utf-8').\\\n",
    "        read().strip().split('\\n')\n",
    "\n",
    "    # Split every line into pairs and normalize\n",
    "    pairs = [[normalizeString(s) for s in l.split('\\t')] for l in lines]\n",
    "\n",
    "    # Reverse pairs, make Lang instances\n",
    "    if reverse:\n",
    "        pairs = [list(reversed(p)) for p in pairs]\n",
    "        input_lang = Lang(lang2)\n",
    "        output_lang = Lang(lang1)\n",
    "    else:\n",
    "        input_lang = Lang(lang1)\n",
    "        output_lang = Lang(lang2)\n",
    "\n",
    "    return input_lang, output_lang, pairs"
   ]
  },
  {
   "cell_type": "code",
   "execution_count": 0,
   "metadata": {
    "colab": {},
    "colab_type": "code",
    "id": "EJh2UplEhpFt"
   },
   "outputs": [],
   "source": [
    "MAX_LENGTH = 15\n",
    "\n",
    "def filterPair(p):\n",
    "    return len(p[0].split(' ')) < MAX_LENGTH and len(p[1].split(' ')) < MAX_LENGTH \n",
    "\n",
    "def filterPairs(pairs):\n",
    "    return [pair for pair in pairs if filterPair(pair)]"
   ]
  },
  {
   "cell_type": "code",
   "execution_count": 0,
   "metadata": {
    "colab": {
     "base_uri": "https://localhost:8080/",
     "height": 158
    },
    "colab_type": "code",
    "id": "cy0tXjq5hrJ6",
    "outputId": "2233bc2c-9249-494a-8070-ca1d0cdd6321"
   },
   "outputs": [
    {
     "name": "stdout",
     "output_type": "stream",
     "text": [
      "Reading lines...\n",
      "Read 273885 sentence pairs\n",
      "Trimmed to 182030 sentence pairs\n",
      "Counting words...\n",
      "Counted words:\n",
      "eng 54452\n",
      "hin 70097\n",
      "['export multiple   ', 'अनेक निर्यात   m']\n"
     ]
    }
   ],
   "source": [
    "def prepareData(lang1, lang2, reverse=False):\n",
    "    input_lang, output_lang, pairs = readLangs(lang1, lang2, reverse)\n",
    "    print(\"Read %s sentence pairs\" % len(pairs))\n",
    "    pairs = filterPairs(pairs)\n",
    "    print(\"Trimmed to %s sentence pairs\" % len(pairs))\n",
    "    print(\"Counting words...\")\n",
    "    for pair in pairs:\n",
    "        input_lang.addSentence(pair[0])\n",
    "        output_lang.addSentence(pair[1])\n",
    "    print(\"Counted words:\")\n",
    "    print(input_lang.name, input_lang.n_words)\n",
    "    print(output_lang.name, output_lang.n_words)\n",
    "    return input_lang, output_lang, pairs\n",
    "\n",
    "\n",
    "input_lang, output_lang, pairs = prepareData('eng', 'hin', False)\n",
    "print(random.choice(pairs))"
   ]
  },
  {
   "cell_type": "code",
   "execution_count": 0,
   "metadata": {
    "colab": {},
    "colab_type": "code",
    "id": "qnJ-0IFUhxzo"
   },
   "outputs": [],
   "source": [
    "%matplotlib inline\n",
    "class EncoderRNN(nn.Module):\n",
    "    def __init__(self, input_size, hidden_size):\n",
    "        super(EncoderRNN, self).__init__()\n",
    "        self.hidden_size = hidden_size\n",
    "\n",
    "        self.embedding = nn.Embedding(input_size, hidden_size)\n",
    "        self.gru = nn.GRU(hidden_size, hidden_size)\n",
    "\n",
    "    def forward(self, input, hidden):\n",
    "        embedded = self.embedding(input).view(1, 1, -1)\n",
    "        output = embedded\n",
    "        output, hidden = self.gru(output, hidden)\n",
    "        return output, hidden\n",
    "\n",
    "    def initHidden(self):\n",
    "        return torch.zeros(1, 1, self.hidden_size, device=device)"
   ]
  },
  {
   "cell_type": "code",
   "execution_count": 0,
   "metadata": {
    "colab": {},
    "colab_type": "code",
    "id": "jnGIZcBmh4sB"
   },
   "outputs": [],
   "source": [
    "%matplotlib inline\n",
    "class DecoderRNN(nn.Module):\n",
    "    def __init__(self, hidden_size, output_size):\n",
    "        super(DecoderRNN, self).__init__()\n",
    "        self.hidden_size = hidden_size\n",
    "\n",
    "        self.embedding = nn.Embedding(output_size, hidden_size)\n",
    "        self.gru = nn.GRU(hidden_size, hidden_size)\n",
    "        self.out = nn.Linear(hidden_size, output_size)\n",
    "        self.softmax = nn.LogSoftmax(dim=1)\n",
    "\n",
    "    def forward(self, input, hidden):\n",
    "        output = self.embedding(input).view(1, 1, -1)\n",
    "        output = F.relu(output)\n",
    "        output, hidden = self.gru(output, hidden)\n",
    "        output = self.softmax(self.out(output[0]))\n",
    "        return output, hidden\n",
    "\n",
    "    def initHidden(self):\n",
    "        return torch.zeros(1, 1, self.hidden_size, device=device)"
   ]
  },
  {
   "cell_type": "code",
   "execution_count": 0,
   "metadata": {
    "colab": {},
    "colab_type": "code",
    "id": "ZRvz5oqrh5FP"
   },
   "outputs": [],
   "source": [
    "%matplotlib inline\n",
    "class AttnDecoderRNN(nn.Module):\n",
    "    def __init__(self, hidden_size, output_size, dropout_p=0.1, max_length=MAX_LENGTH):\n",
    "        super(AttnDecoderRNN, self).__init__()\n",
    "        self.hidden_size = hidden_size\n",
    "        self.output_size = output_size\n",
    "        self.dropout_p = dropout_p\n",
    "        self.max_length = max_length\n",
    "\n",
    "        self.embedding = nn.Embedding(self.output_size, self.hidden_size)\n",
    "        self.attn = nn.Linear(self.hidden_size * 2, self.max_length)\n",
    "        self.attn_combine = nn.Linear(self.hidden_size * 2, self.hidden_size)\n",
    "        self.dropout = nn.Dropout(self.dropout_p)\n",
    "        self.gru = nn.GRU(self.hidden_size, self.hidden_size)\n",
    "        self.out = nn.Linear(self.hidden_size, self.output_size)\n",
    "\n",
    "    def forward(self, input, hidden, encoder_outputs):\n",
    "        embedded = self.embedding(input).view(1, 1, -1)\n",
    "        embedded = self.dropout(embedded)\n",
    "\n",
    "        attn_weights = F.softmax(\n",
    "            self.attn(torch.cat((embedded[0], hidden[0]), 1)), dim=1)\n",
    "        attn_applied = torch.bmm(attn_weights.unsqueeze(0),\n",
    "                                 encoder_outputs.unsqueeze(0))\n",
    "\n",
    "        output = torch.cat((embedded[0], attn_applied[0]), 1)\n",
    "        output = self.attn_combine(output).unsqueeze(0)\n",
    "\n",
    "        output = F.relu(output)\n",
    "        output, hidden = self.gru(output, hidden)\n",
    "\n",
    "        output = F.log_softmax(self.out(output[0]), dim=1)\n",
    "        return output, hidden, attn_weights\n",
    "\n",
    "    def initHidden(self):\n",
    "        return torch.zeros(1, 1, self.hidden_size, device=device)"
   ]
  },
  {
   "cell_type": "code",
   "execution_count": 0,
   "metadata": {
    "colab": {},
    "colab_type": "code",
    "id": "gphVcRMNh7zc"
   },
   "outputs": [],
   "source": [
    "def indexesFromSentence(lang, sentence):\n",
    "    %matplotlib inline\n",
    "    return [lang.word2index[word] for word in sentence.split(' ')]\n",
    "\n",
    "\n",
    "def tensorFromSentence(lang, sentence):\n",
    "    indexes = indexesFromSentence(lang, sentence)\n",
    "    indexes.append(EOS_token)\n",
    "    return torch.tensor(indexes, dtype=torch.long, device=device).view(-1, 1)\n",
    "\n",
    "\n",
    "def tensorsFromPair(pair):\n",
    "    input_tensor = tensorFromSentence(input_lang, pair[0])\n",
    "    target_tensor = tensorFromSentence(output_lang, pair[1])\n",
    "    return (input_tensor, target_tensor)"
   ]
  },
  {
   "cell_type": "code",
   "execution_count": 0,
   "metadata": {
    "colab": {},
    "colab_type": "code",
    "id": "gV5CJa24h9sa"
   },
   "outputs": [],
   "source": [
    "%matplotlib inline\n",
    "teacher_forcing_ratio = 0.5\n",
    "\n",
    "\n",
    "def train(input_tensor, target_tensor, encoder, decoder, encoder_optimizer, decoder_optimizer, criterion, max_length=MAX_LENGTH):\n",
    "    encoder_hidden = encoder.initHidden()\n",
    "    %matplotlib inline\n",
    "\n",
    "    encoder_optimizer.zero_grad()\n",
    "    decoder_optimizer.zero_grad()\n",
    "\n",
    "    input_length = input_tensor.size(0)\n",
    "    target_length = target_tensor.size(0)\n",
    "\n",
    "    encoder_outputs = torch.zeros(max_length, encoder.hidden_size, device=device)\n",
    "\n",
    "    loss = 0\n",
    "\n",
    "    for ei in range(input_length):\n",
    "        encoder_output, encoder_hidden = encoder(\n",
    "            input_tensor[ei], encoder_hidden)\n",
    "        encoder_outputs[ei] = encoder_output[0, 0]\n",
    "\n",
    "    decoder_input = torch.tensor([[SOS_token]], device=device)\n",
    "\n",
    "    decoder_hidden = encoder_hidden\n",
    "\n",
    "    use_teacher_forcing = True if random.random() < teacher_forcing_ratio else False\n",
    "\n",
    "    if use_teacher_forcing:\n",
    "        # Teacher forcing: Feed the target as the next input\n",
    "        for di in range(target_length):\n",
    "            decoder_output, decoder_hidden, decoder_attention = decoder(\n",
    "                decoder_input, decoder_hidden, encoder_outputs)\n",
    "            loss += criterion(decoder_output, target_tensor[di])\n",
    "            decoder_input = target_tensor[di]  # Teacher forcing\n",
    "\n",
    "    else:\n",
    "        # Without teacher forcing: use its own predictions as the next input\n",
    "        for di in range(target_length):\n",
    "            decoder_output, decoder_hidden, decoder_attention = decoder(\n",
    "                decoder_input, decoder_hidden, encoder_outputs)\n",
    "            topv, topi = decoder_output.topk(1)\n",
    "            decoder_input = topi.squeeze().detach()  # detach from history as input\n",
    "\n",
    "            loss += criterion(decoder_output, target_tensor[di])\n",
    "            if decoder_input.item() == EOS_token:\n",
    "                break\n",
    "\n",
    "    loss.backward()\n",
    "\n",
    "    encoder_optimizer.step()\n",
    "    decoder_optimizer.step()\n",
    "\n",
    "    return loss.item() / target_length"
   ]
  },
  {
   "cell_type": "code",
   "execution_count": 0,
   "metadata": {
    "colab": {},
    "colab_type": "code",
    "id": "peeE6JT7h_x4"
   },
   "outputs": [],
   "source": [
    "%matplotlib inline\n",
    "import time\n",
    "import math\n",
    "\n",
    "\n",
    "def asMinutes(s):\n",
    "    m = math.floor(s / 60)\n",
    "    s -= m * 60\n",
    "    return '%dm %ds' % (m, s)\n",
    "\n",
    "\n",
    "def timeSince(since, percent):\n",
    "    now = time.time()\n",
    "    s = now - since\n",
    "    es = s / (percent)\n",
    "    rs = es - s\n",
    "    return '%s (- %s)' % (asMinutes(s), asMinutes(rs))"
   ]
  },
  {
   "cell_type": "code",
   "execution_count": 0,
   "metadata": {
    "colab": {
     "base_uri": "https://localhost:8080/",
     "height": 34
    },
    "colab_type": "code",
    "id": "eiqaw5_ZmYJk",
    "outputId": "777509d0-8c43-4216-bfb7-0d314b3b99c2"
   },
   "outputs": [
    {
     "data": {
      "text/plain": [
       "['banning song', 'गाना प्रतिबंधित कर रहा है']"
      ]
     },
     "execution_count": 25,
     "metadata": {
      "tags": []
     },
     "output_type": "execute_result"
    }
   ],
   "source": [
    "random.choice(pairs)"
   ]
  },
  {
   "cell_type": "code",
   "execution_count": 0,
   "metadata": {
    "colab": {
     "base_uri": "https://localhost:8080/",
     "height": 34
    },
    "colab_type": "code",
    "id": "oZODd7zMm7ua",
    "outputId": "463587cd-265e-473d-b8bb-185a8991b3f7"
   },
   "outputs": [
    {
     "data": {
      "text/plain": [
       "182030"
      ]
     },
     "execution_count": 26,
     "metadata": {
      "tags": []
     },
     "output_type": "execute_result"
    }
   ],
   "source": [
    "len(pairs)"
   ]
  },
  {
   "cell_type": "code",
   "execution_count": 0,
   "metadata": {
    "colab": {},
    "colab_type": "code",
    "id": "s9NBTahGiJWm"
   },
   "outputs": [],
   "source": [
    "%matplotlib inline\n",
    "def trainIters(encoder, decoder, n_epochs, learning_rate, print_every=50000, plot_every=50000):\n",
    "    %matplotlib inline\n",
    "    start = time.time()\n",
    "    plot_losses = []\n",
    "    print_loss_total = 0  # Reset every print_every\n",
    "    plot_loss_total = 0  # Reset every plot_every\n",
    "\n",
    "    encoder_optimizer = optim.SGD(encoder.parameters(), lr=learning_rate)\n",
    "    decoder_optimizer = optim.SGD(decoder.parameters(), lr=learning_rate)\n",
    "    training_pairs = [tensorsFromPair(pairs[i]) for i in range(len(pairs))]\n",
    "    criterion = nn.NLLLoss()\n",
    "    \n",
    "    n_iters = len(pairs)\n",
    "    for e in range(1, n_epochs + 1):\n",
    "        for iter in range(1, len(pairs) + 1):\n",
    "            training_pair = training_pairs[iter - 1]\n",
    "            input_tensor = training_pair[0]\n",
    "            target_tensor = training_pair[1]\n",
    "\n",
    "            loss = train(input_tensor, target_tensor, encoder,\n",
    "                        decoder, encoder_optimizer, decoder_optimizer, criterion)\n",
    "            print_loss_total += loss\n",
    "            plot_loss_total += loss\n",
    "\n",
    "            if iter % print_every == 0:\n",
    "                print_loss_avg = print_loss_total / print_every\n",
    "                print_loss_total = 0\n",
    "                print('%s (%d %d%%) %.4f' % (timeSince(start, iter / n_iters),\n",
    "                                            iter, iter / n_iters * 100, print_loss_avg))\n",
    "\n",
    "            if iter % plot_every == 0:\n",
    "                plot_loss_avg = plot_loss_total / plot_every\n",
    "                plot_losses.append(plot_loss_avg)\n",
    "                plot_loss_total = 0\n",
    "\n",
    "    showPlot(plot_losses)\n"
   ]
  },
  {
   "cell_type": "code",
   "execution_count": 0,
   "metadata": {
    "colab": {},
    "colab_type": "code",
    "id": "NapCtOBwiLfS"
   },
   "outputs": [],
   "source": [
    "%matplotlib inline\n",
    "import matplotlib.pyplot as plt\n",
    "plt.switch_backend('agg')\n",
    "import matplotlib.ticker as ticker\n",
    "import numpy as np\n",
    "\n",
    "\n",
    "def showPlot(points):\n",
    "    %matplotlib inline\n",
    "    plt.figure()\n",
    "    fig, ax = plt.subplots()\n",
    "    # this locator puts ticks at regular intervals\n",
    "    loc = ticker.MultipleLocator(base=0.2)\n",
    "    ax.yaxis.set_major_locator(loc)\n",
    "    plt.plot(points)"
   ]
  },
  {
   "cell_type": "code",
   "execution_count": 0,
   "metadata": {
    "colab": {},
    "colab_type": "code",
    "id": "baE-iOfZiNXM"
   },
   "outputs": [],
   "source": [
    "def evaluate(encoder, decoder, sentence, max_length=MAX_LENGTH):\n",
    "    %matplotlib inline\n",
    "    with torch.no_grad():\n",
    "        input_tensor = tensorFromSentence(input_lang, sentence)\n",
    "        input_length = input_tensor.size()[0]\n",
    "        encoder_hidden = encoder.initHidden()\n",
    "\n",
    "        encoder_outputs = torch.zeros(max_length, encoder.hidden_size, device=device)\n",
    "\n",
    "        for ei in range(input_length):\n",
    "            encoder_output, encoder_hidden = encoder(input_tensor[ei],\n",
    "                                                     encoder_hidden)\n",
    "            encoder_outputs[ei] += encoder_output[0, 0]\n",
    "\n",
    "        decoder_input = torch.tensor([[SOS_token]], device=device)  # SOS\n",
    "\n",
    "        decoder_hidden = encoder_hidden\n",
    "\n",
    "        decoded_words = []\n",
    "        decoder_attentions = torch.zeros(max_length, max_length)\n",
    "\n",
    "        for di in range(max_length):\n",
    "            decoder_output, decoder_hidden, decoder_attention = decoder(\n",
    "                decoder_input, decoder_hidden, encoder_outputs)\n",
    "            decoder_attentions[di] = decoder_attention.data\n",
    "            topv, topi = decoder_output.data.topk(1)\n",
    "            if topi.item() == EOS_token:\n",
    "                decoded_words.append('')\n",
    "                break\n",
    "            else:\n",
    "                decoded_words.append(output_lang.index2word[topi.item()])\n",
    "\n",
    "            decoder_input = topi.squeeze().detach()\n",
    "\n",
    "        return decoded_words, decoder_attentions[:di + 1]"
   ]
  },
  {
   "cell_type": "code",
   "execution_count": 0,
   "metadata": {
    "colab": {},
    "colab_type": "code",
    "id": "IemLtNFLiP-z"
   },
   "outputs": [],
   "source": [
    "def evaluateRandomly(encoder, decoder, n=5):\n",
    "    from nltk.translate.bleu_score import sentence_bleu\n",
    "    %matplotlib inline\n",
    "    for i in range(n):\n",
    "        pair = random.choice(pairs)\n",
    "        print('English: ', pair[0])\n",
    "        print('Actual: ', pair[1])\n",
    "        output_words, attentions = evaluate(encoder, decoder, pair[0])\n",
    "        output_sentence = ' '.join(output_words)\n",
    "        print('Predicted: ', output_sentence)\n",
    "        act = pair[1].split()\n",
    "        pred = output_sentence.split()\n",
    "        print('Cumulative 1-gram: %f' % sentence_bleu([act], pred, weights=(1, 0, 0, 0)))\n",
    "        print('Cumulative 2-gram: %f' % sentence_bleu([act], pred, weights=(0.5, 0.5, 0, 0)))\n",
    "        print('Cumulative 3-gram: %f' % sentence_bleu([act], pred, weights=(0.33, 0.33, 0.33, 0)))\n",
    "        print('Cumulative 4-gram: %f' % sentence_bleu([act], pred, weights=(0.25, 0.25, 0.25, 0.25)))\n",
    "        score = sentence_bleu([act], pred)\n",
    "        print(score)\n",
    "        print('')"
   ]
  },
  {
   "cell_type": "code",
   "execution_count": 0,
   "metadata": {
    "colab": {
     "base_uri": "https://localhost:8080/",
     "height": 34
    },
    "colab_type": "code",
    "id": "nbORoOHeiSY-",
    "outputId": "e5f69363-2252-4cae-bd95-5207445b218f"
   },
   "outputs": [
    {
     "data": {
      "text/plain": [
       "<All keys matched successfully>"
      ]
     },
     "execution_count": 31,
     "metadata": {
      "tags": []
     },
     "output_type": "execute_result"
    }
   ],
   "source": [
    "%matplotlib inline\n",
    "hidden_size = 256\n",
    "encoder1 = EncoderRNN(input_lang.n_words, hidden_size).to(device)\n",
    "attn_decoder1 = AttnDecoderRNN(hidden_size, output_lang.n_words, dropout_p=0.1).to(device)\n",
    "\n",
    "encoder1.load_state_dict(torch.load('encoder_nmt_LR1e-5_2ndep.pkl'))\n",
    "attn_decoder1.load_state_dict(torch.load('decoder_nmt_LR1e-5_2ndep.pkl'))\n",
    "\n",
    "#trainIters(encoder1, attn_decoder1, 1, print_every=20000, learning_rate=0.00001)\n",
    "\n",
    "\n",
    "torch.save(encoder1.state_dict(),'encoder_nmt_13.pkl')\n",
    "torch.save(attn_decoder1.state_dict(),'decoder_nmt_13.pkl')"
   ]
  },
  {
   "cell_type": "code",
   "execution_count": 0,
   "metadata": {
    "colab": {
     "base_uri": "https://localhost:8080/",
     "height": 950
    },
    "colab_type": "code",
    "id": "EcLk4pQpiwd-",
    "outputId": "65ceed42-ca6e-45ff-b3c3-354686fa87aa"
   },
   "outputs": [
    {
     "name": "stdout",
     "output_type": "stream",
     "text": [
      "English:  you know what grannies do ”\n",
      "Actual:  तुम्हें पता है दादियाँ क्या करती हैं ”\n",
      "Predicted:  क्या आप हैं  ” \n",
      "Cumulative 1-gram: 0.275910\n",
      "Cumulative 2-gram: 0.183940\n",
      "Cumulative 3-gram: 0.232823\n",
      "Cumulative 4-gram: 0.260130\n",
      "0.2601300475114444\n",
      "\n",
      "English:  compact layout\n",
      "Actual:  компактний вигляд\n",
      "Predicted:  kompakt \n",
      "Cumulative 1-gram: 0.000000\n",
      "Cumulative 2-gram: 0.000000\n",
      "Cumulative 3-gram: 0.000000\n",
      "Cumulative 4-gram: 0.000000\n",
      "0\n",
      "\n",
      "English:   have a disability\n",
      "Actual:   विकलांगता है\n",
      "Predicted:  एक है \n",
      "Cumulative 1-gram: 0.500000\n",
      "Cumulative 2-gram: 0.707107\n",
      "Cumulative 3-gram: 0.795536\n",
      "Cumulative 4-gram: 0.840896\n",
      "0.8408964152537145\n",
      "\n",
      "English:  saaransh\n",
      "Actual:  सारांश 1984 फ़िल्म\n",
      "Predicted:  सारांश \n",
      "Cumulative 1-gram: 0.135335\n",
      "Cumulative 2-gram: 0.135335\n",
      "Cumulative 3-gram: 0.135335\n",
      "Cumulative 4-gram: 0.135335\n",
      "0.1353352832366127\n",
      "\n",
      "English:  louisiana\n",
      "Actual:  लुईज़ियाना\n",
      "Predicted:  लुईज़ियाना \n",
      "Cumulative 1-gram: 1.000000\n",
      "Cumulative 2-gram: 1.000000\n",
      "Cumulative 3-gram: 1.000000\n",
      "Cumulative 4-gram: 1.000000\n",
      "1.0\n",
      "\n"
     ]
    },
    {
     "name": "stderr",
     "output_type": "stream",
     "text": [
      "/usr/local/lib/python3.6/dist-packages/nltk/translate/bleu_score.py:490: UserWarning: \n",
      "Corpus/Sentence contains 0 counts of 3-gram overlaps.\n",
      "BLEU scores might be undesirable; use SmoothingFunction().\n",
      "  warnings.warn(_msg)\n",
      "/usr/local/lib/python3.6/dist-packages/nltk/translate/bleu_score.py:490: UserWarning: \n",
      "Corpus/Sentence contains 0 counts of 2-gram overlaps.\n",
      "BLEU scores might be undesirable; use SmoothingFunction().\n",
      "  warnings.warn(_msg)\n"
     ]
    }
   ],
   "source": [
    "evaluateRandomly(encoder1, attn_decoder1)"
   ]
  },
  {
   "cell_type": "code",
   "execution_count": 0,
   "metadata": {
    "colab": {
     "base_uri": "https://localhost:8080/",
     "height": 158
    },
    "colab_type": "code",
    "id": "OuEw2TBg2eut",
    "outputId": "d4ee0342-faf7-4949-fb2a-abd906e6a9b4"
   },
   "outputs": [
    {
     "name": "stdout",
     "output_type": "stream",
     "text": [
      "Predicted1:  दो  \n",
      "Predicted2:  यह पर पर पर पर पर पर पर पर पर पर पर पर पर पर\n",
      "Predicted3:  के में \n",
      "Predicted5:  और एक एक एक एक एक एक एक एक एक एक एक एक एक एक\n",
      "Predicted6:  लोग लोग लोग लोग के लोग का एक \n",
      "Predicted7:  लाल रंग में एक रंग \n",
      "Predicted8:  एक सड़क पर आधारित \n",
      "Predicted9:  दो देश में \n"
     ]
    }
   ],
   "source": [
    "#Flickr8 Dataset Img Captioning \n",
    "\n",
    "sent1 = \" Two dogs are running together through the grass \"\n",
    "sent2 = \" man is on a big wave\"\n",
    "sent3 = \" man in a helmet rides a bike prediction\"\n",
    "#sent4 = \" man on a surfboard \"\n",
    "sent5 = \"woman and a woman are smiling and smiling\"\n",
    "sent6 = \"group of people are sitting on a bench\"\n",
    "sent7 = \" football player in a red uniform is running \"\n",
    "sent8 = \"man in a blue shirt and blue shorts is on the street\"\n",
    "sent9 = \"two brown dogs are playing in the snow\"\n",
    "\n",
    "\n",
    "\n",
    "\n",
    "output_words1, attentions1 = evaluate(encoder1, attn_decoder1, sent1.lower())\n",
    "output_words2, attentions2 = evaluate(encoder1, attn_decoder1, sent2.lower())\n",
    "output_words3, attentions3 = evaluate(encoder1, attn_decoder1, sent3.lower())\n",
    "#output_words4, attentions4 = evaluate(encoder1, attn_decoder1, sent4.lower())\n",
    "output_words5, attentions5 = evaluate(encoder1, attn_decoder1, sent5.lower())\n",
    "output_words6, attentions6 = evaluate(encoder1, attn_decoder1, sent6.lower())\n",
    "output_words7, attentions7 = evaluate(encoder1, attn_decoder1, sent7.lower())\n",
    "output_words8, attentions8 = evaluate(encoder1, attn_decoder1, sent8.lower())\n",
    "output_words9, attentions9 = evaluate(encoder1, attn_decoder1, sent9.lower())\n",
    "\n",
    "output_sentence1 = ' '.join(output_words1)\n",
    "output_sentence2 = ' '.join(output_words2)\n",
    "output_sentence3 = ' '.join(output_words3)\n",
    "#output_sentence4 = ' '.join(output_words4)\n",
    "output_sentence5 = ' '.join(output_words5)\n",
    "output_sentence6 = ' '.join(output_words6)\n",
    "output_sentence7 = ' '.join(output_words7)\n",
    "output_sentence8 = ' '.join(output_words8)\n",
    "output_sentence9 = ' '.join(output_words9)\n",
    "\n",
    "\n",
    "print('Predicted1: ', output_sentence1)\n",
    "print('Predicted2: ', output_sentence2)\n",
    "print('Predicted3: ', output_sentence3)\n",
    "#print('Predicted4: ', output_sentence4)\n",
    "print('Predicted5: ', output_sentence5)\n",
    "print('Predicted6: ', output_sentence6)\n",
    "print('Predicted7: ', output_sentence7)\n",
    "print('Predicted8: ', output_sentence8)\n",
    "print('Predicted9: ', output_sentence9)"
   ]
  },
  {
   "cell_type": "code",
   "execution_count": 0,
   "metadata": {
    "colab": {},
    "colab_type": "code",
    "id": "jMn7Shaf-nRX"
   },
   "outputs": [],
   "source": [
    "sent1 = \" Two dogs are running together through the grass \"\n",
    "sent2 = \" man is on a big wave\"\n",
    "sent3 = \" man in a helmet rides a bike prediction\"\n",
    "#sent4 = \" man on a surfboard \"\n",
    "sent5 = \"woman and a woman are smiling and smiling\"\n",
    "sent6 = \"group of people are sitting on a bench\"\n",
    "sent7 = \" football player in a red uniform is running \"\n",
    "sent8 = \"man in a blue shirt and blue shorts is on the street\"\n",
    "sent9 = \"two brown dogs are playing in the snow\""
   ]
  },
  {
   "cell_type": "code",
   "execution_count": 0,
   "metadata": {
    "colab": {
     "base_uri": "https://localhost:8080/",
     "height": 158
    },
    "colab_type": "code",
    "id": "P-R4P56sR0IF",
    "outputId": "10df8aa5-bc5c-4918-ee59-9791a2a87d5f"
   },
   "outputs": [
    {
     "name": "stdout",
     "output_type": "stream",
     "text": [
      "Predicted1:  आप आप आप आप आप आप आप आप आप आप आप आप आप आप आप\n",
      "Predicted2:  जन्म की \n",
      "Predicted3:  यह था \n",
      "Predicted4:  बालदार \n",
      "Predicted5:  का ध्वज ध्वज ध्वज ध्वज ध्वज ध्वज ध्वज ध्वज ध्वज ध्वज ध्वज ध्वज ध्वज ध्वज\n",
      "Predicted6:  लेकिन वे ही सेनाओं \n",
      "Predicted7:  दुनिया के लिए में \n",
      "Predicted8:  भाषा \n"
     ]
    }
   ],
   "source": [
    "#Hindencorp sentences\n",
    "\n",
    "\n",
    "\n",
    "sent1 = \"You may have noticed it\"\n",
    "sent2 = \"Place of Birth\"\n",
    "sent3 = \"Once that trust was built\"\n",
    "sent4 = \"Woolly rhinoceros\"\n",
    "sent5 = \"Flag of Kazakhstan\"\n",
    "sent6 = \"But male chauvinism was its blind side\"\n",
    "sent7 = \"for the world in general\"\n",
    "sent8 = \"Oriya language\"\n",
    "\n",
    "\n",
    "\n",
    "\n",
    "output_words1, attentions1 = evaluate(encoder1, attn_decoder1, sent1.lower())\n",
    "output_words2, attentions2 = evaluate(encoder1, attn_decoder1, sent2.lower())\n",
    "output_words3, attentions3 = evaluate(encoder1, attn_decoder1, sent3.lower())\n",
    "output_words4, attentions4 = evaluate(encoder1, attn_decoder1, sent4.lower())\n",
    "output_words5, attentions5 = evaluate(encoder1, attn_decoder1, sent5.lower())\n",
    "output_words6, attentions6 = evaluate(encoder1, attn_decoder1, sent6.lower())\n",
    "output_words7, attentions7 = evaluate(encoder1, attn_decoder1, sent7.lower())\n",
    "output_words8, attentions8 = evaluate(encoder1, attn_decoder1, sent8.lower())\n",
    "\n",
    "output_sentence1 = ' '.join(output_words1)\n",
    "output_sentence2 = ' '.join(output_words2)\n",
    "output_sentence3 = ' '.join(output_words3)\n",
    "output_sentence4 = ' '.join(output_words4)\n",
    "output_sentence5 = ' '.join(output_words5)\n",
    "output_sentence6 = ' '.join(output_words6)\n",
    "output_sentence7 = ' '.join(output_words7)\n",
    "output_sentence8 = ' '.join(output_words8)\n",
    "\n",
    "\n",
    "print('Predicted1: ', output_sentence1)\n",
    "print('Predicted2: ', output_sentence2)\n",
    "print('Predicted3: ', output_sentence3)\n",
    "print('Predicted4: ', output_sentence4)\n",
    "print('Predicted5: ', output_sentence5)\n",
    "print('Predicted6: ', output_sentence6)\n",
    "print('Predicted7: ', output_sentence7)\n",
    "print('Predicted8: ', output_sentence8)\n",
    "\n"
   ]
  }
 ],
 "metadata": {
  "accelerator": "GPU",
  "colab": {
   "collapsed_sections": [],
   "name": "Omesh_of_NMT_2_Shreiya.ipynb",
   "provenance": []
  },
  "kernelspec": {
   "display_name": "Python 3",
   "language": "python",
   "name": "python3"
  },
  "language_info": {
   "codemirror_mode": {
    "name": "ipython",
    "version": 3
   },
   "file_extension": ".py",
   "mimetype": "text/x-python",
   "name": "python",
   "nbconvert_exporter": "python",
   "pygments_lexer": "ipython3",
   "version": "3.7.4"
  }
 },
 "nbformat": 4,
 "nbformat_minor": 1
}
