{
  "nbformat": 4,
  "nbformat_minor": 0,
  "metadata": {
    "colab": {
      "name": "NMT_Eng2Hin_LSTM_BDM_hind.ipynb",
      "provenance": [],
      "collapsed_sections": []
    },
    "kernelspec": {
      "name": "python3",
      "display_name": "Python 3"
    },
    "accelerator": "GPU"
  },
  "cells": [
    {
      "cell_type": "code",
      "metadata": {
        "id": "X7gRyyT2e_T6",
        "colab_type": "code",
        "outputId": "71f808ea-b84f-4930-bee7-ba21c5c7ee31",
        "colab": {
          "base_uri": "https://localhost:8080/",
          "height": 34
        }
      },
      "source": [
        "from google.colab import drive\n",
        "drive.mount('/content/drive')"
      ],
      "execution_count": 0,
      "outputs": [
        {
          "output_type": "stream",
          "text": [
            "Drive already mounted at /content/drive; to attempt to forcibly remount, call drive.mount(\"/content/drive\", force_remount=True).\n"
          ],
          "name": "stdout"
        }
      ]
    },
    {
      "cell_type": "code",
      "metadata": {
        "id": "2cwnskIVfLKd",
        "colab_type": "code",
        "outputId": "47a5320e-b2db-4a30-9649-3c12a2164c34",
        "colab": {
          "base_uri": "https://localhost:8080/",
          "height": 269
        }
      },
      "source": [
        "%cd /content/drive/My\\ Drive/Colab\\ Notebooks/Project_576/\n",
        "!ls -la"
      ],
      "execution_count": 0,
      "outputs": [
        {
          "output_type": "stream",
          "text": [
            "/content/drive/My Drive/Colab Notebooks/Project_576\n",
            "total 691490\n",
            "-rw------- 1 root root     52727 Apr 27 19:49 Copy_of_LSTM_MultiLayer_BiDirectional_Shreiya.ipynb\n",
            "-rw------- 1 root root     31564 Apr 26 22:29 Copy_of_NMT_2_Shreiya.ipynb\n",
            "-rw------- 1 root root 154916665 Apr 27 03:26 decoder_lstm_7ep.pkl\n",
            "-rw------- 1 root root 154916678 Apr 27 19:45 decoder_lstm_8ep.pkl\n",
            "-rw------- 1 root root     38475 Apr 24 22:09 Doc_similarity_Shreiya.ipynb\n",
            "-rw------- 1 root root  66279583 Apr 27 03:26 encoder_lstm_7ep.pkl\n",
            "-rw------- 1 root root  66279583 Apr 27 19:44 encoder_lstm_8ep.pkl\n",
            "-rw------- 1 root root  57338758 Apr 24 18:36 encoder_nmt.pkl\n",
            "-rw------- 1 root root  45442087 Apr 26 21:42 hindencorp05.export.gz\n",
            "-rw------- 1 root root  72209027 Apr 26 21:42 hindencorp05.plaintext\n",
            "-rw------- 1 root root  23899723 Apr 26 21:42 hindencorp05.plaintext.gz\n",
            "-rw------- 1 root root  66672230 Apr 26 21:42 hindencorp05.txt\n",
            "-rw------- 1 root root      4472 Apr 26 21:42 README.txt\n"
          ],
          "name": "stdout"
        }
      ]
    },
    {
      "cell_type": "code",
      "metadata": {
        "id": "DG6Y_XoOIG_N",
        "colab_type": "code",
        "colab": {}
      },
      "source": [
        "!curl --remote-name-all https://lindat.mff.cuni.cz/repository/xmlui/bitstream/handle/11858/00-097C-0000-0023-625F-0{/README.txt,/hindencorp05.export.gz,/hindencorp05.plaintext.gz}"
      ],
      "execution_count": 0,
      "outputs": []
    },
    {
      "cell_type": "code",
      "metadata": {
        "id": "lB4V6KE1IlF8",
        "colab_type": "code",
        "colab": {}
      },
      "source": [
        "!gunzip -k hindencorp05.plaintext.gz"
      ],
      "execution_count": 0,
      "outputs": []
    },
    {
      "cell_type": "code",
      "metadata": {
        "id": "Eyd-o5LnIlPO",
        "colab_type": "code",
        "colab": {}
      },
      "source": [
        "!cut -f 4- hindencorp05.plaintext > hindencorp05.txt"
      ],
      "execution_count": 0,
      "outputs": []
    },
    {
      "cell_type": "code",
      "metadata": {
        "id": "Wq1-y6JAhdIZ",
        "colab_type": "code",
        "colab": {}
      },
      "source": [
        "from __future__ import unicode_literals, print_function, division\n",
        "from io import open\n",
        "import unicodedata\n",
        "import string\n",
        "import re\n",
        "import random\n",
        "\n",
        "import torch\n",
        "import torch.nn as nn\n",
        "from torch import optim\n",
        "import torch.nn.functional as F\n",
        "\n",
        "device = torch.device(\"cuda\" if torch.cuda.is_available() else \"cpu\")"
      ],
      "execution_count": 0,
      "outputs": []
    },
    {
      "cell_type": "code",
      "metadata": {
        "id": "sdItkemNhhkN",
        "colab_type": "code",
        "colab": {}
      },
      "source": [
        "SOS_token = 0\n",
        "EOS_token = 1\n",
        "\n",
        "\n",
        "class Lang:\n",
        "    def __init__(self, name):\n",
        "        self.name = name\n",
        "        self.word2index = {}\n",
        "        self.word2count = {}\n",
        "        self.index2word = {0: \"SOS\", 1: \"EOS\"}\n",
        "        self.n_words = 2  # Count SOS and EOS\n",
        "\n",
        "    def addSentence(self, sentence):\n",
        "        for word in sentence.split(' '):\n",
        "            self.addWord(word)\n",
        "\n",
        "    def addWord(self, word):\n",
        "        if word not in self.word2index:\n",
        "            self.word2index[word] = self.n_words\n",
        "            self.word2count[word] = 1\n",
        "            self.index2word[self.n_words] = word\n",
        "            self.n_words += 1\n",
        "        else:\n",
        "            self.word2count[word] += 1\n"
      ],
      "execution_count": 0,
      "outputs": []
    },
    {
      "cell_type": "code",
      "metadata": {
        "id": "w8svbdBZhjnR",
        "colab_type": "code",
        "colab": {}
      },
      "source": [
        "# Turn a Unicode string to plain ASCII, thanks to\n",
        "# http://stackoverflow.com/a/518232/2809427\n",
        "def unicodeToAscii(s):\n",
        "    return ''.join(\n",
        "        c for c in unicodedata.normalize('NFD', s)\n",
        "        if unicodedata.category(c) != 'Mn'\n",
        "    )\n",
        "\n",
        "# Lowercase, trim, and remove non-letter characters\n",
        "def normalizeString(s):\n",
        "    s = s.lower().strip()\n",
        "    s = re.sub(r\"([.!?])\", r\" \\1\", s)\n",
        "    table = str.maketrans('', '', string.punctuation)\n",
        "    s = s.translate(table)\n",
        "    s = re.sub(r\"[.!?]+\", r\" \", s)\n",
        "    return s"
      ],
      "execution_count": 0,
      "outputs": []
    },
    {
      "cell_type": "code",
      "metadata": {
        "id": "u10-hkoRhmld",
        "colab_type": "code",
        "colab": {}
      },
      "source": [
        "def readLangs(lang1, lang2, reverse=False):\n",
        "    print(\"Reading lines...\")\n",
        "\n",
        "    # Read the file and split into lines\n",
        "    lines = open('hindencorp05.txt', encoding='utf-8').\\\n",
        "        read().strip().split('\\n')\n",
        "\n",
        "    # Split every line into pairs and normalize\n",
        "    pairs = [[normalizeString(s) for s in l.split('\\t')] for l in lines]\n",
        "\n",
        "    # Reverse pairs, make Lang instances\n",
        "    if reverse:\n",
        "        pairs = [list(reversed(p)) for p in pairs]\n",
        "        input_lang = Lang(lang2)\n",
        "        output_lang = Lang(lang1)\n",
        "    else:\n",
        "        input_lang = Lang(lang1)\n",
        "        output_lang = Lang(lang2)\n",
        "\n",
        "    return input_lang, output_lang, pairs"
      ],
      "execution_count": 0,
      "outputs": []
    },
    {
      "cell_type": "code",
      "metadata": {
        "id": "EJh2UplEhpFt",
        "colab_type": "code",
        "colab": {}
      },
      "source": [
        "MAX_LENGTH = 15\n",
        "\n",
        "\n",
        "def filterPair(p):\n",
        "    return len(p[0].split(' ')) < MAX_LENGTH and len(p[1].split(' ')) < MAX_LENGTH \n",
        "\n",
        "\n",
        "def filterPairs(pairs):\n",
        "    return [pair for pair in pairs if filterPair(pair)]"
      ],
      "execution_count": 0,
      "outputs": []
    },
    {
      "cell_type": "code",
      "metadata": {
        "id": "cy0tXjq5hrJ6",
        "colab_type": "code",
        "outputId": "fe149577-c262-49b3-b4aa-53ff019b5673",
        "colab": {
          "base_uri": "https://localhost:8080/",
          "height": 151
        }
      },
      "source": [
        "def prepareData(lang1, lang2, reverse=False):\n",
        "    input_lang, output_lang, pairs = readLangs(lang1, lang2, reverse)\n",
        "    print(\"Read %s sentence pairs\" % len(pairs))\n",
        "    pairs = filterPairs(pairs)\n",
        "    print(\"Trimmed to %s sentence pairs\" % len(pairs))\n",
        "    print(\"Counting words...\")\n",
        "    for pair in pairs:\n",
        "        input_lang.addSentence(pair[0])\n",
        "        output_lang.addSentence(pair[1])\n",
        "    print(\"Counted words:\")\n",
        "    print(input_lang.name, input_lang.n_words)\n",
        "    print(output_lang.name, output_lang.n_words)\n",
        "    return input_lang, output_lang, pairs\n",
        "\n",
        "\n",
        "input_lang, output_lang, pairs = prepareData('eng', 'hin', False)\n",
        "print(random.choice(pairs))"
      ],
      "execution_count": 0,
      "outputs": [
        {
          "output_type": "stream",
          "text": [
            "Reading lines...\n",
            "Read 273885 sentence pairs\n",
            "Trimmed to 182030 sentence pairs\n",
            "Counting words...\n",
            "Counted words:\n",
            "eng 54452\n",
            "hin 70097\n",
            "['large mouse cursor', 'बड़ा माउस कर्सर']\n"
          ],
          "name": "stdout"
        }
      ]
    },
    {
      "cell_type": "code",
      "metadata": {
        "id": "qnJ-0IFUhxzo",
        "colab_type": "code",
        "colab": {}
      },
      "source": [
        "%matplotlib inline\n",
        "class EncoderRNN(nn.Module):\n",
        "    def __init__(self, input_size, hidden_size):\n",
        "        super(EncoderRNN, self).__init__()\n",
        "        self.hidden_size = hidden_size\n",
        "        self.embedding = nn.Embedding(input_size, hidden_size)\n",
        "        self.lstm = nn.LSTM(hidden_size, hidden_size, num_layers = 2, bidirectional = True)\n",
        "\n",
        "    def forward(self, input, hidden):\n",
        "        embedded = self.embedding(input).view(1, 1, -1)\n",
        "        output = embedded\n",
        "        output, hidden = self.lstm(output, hidden)\n",
        "        forward_output, backward_output = output[:, :, :self.hidden_size], output[:, :, self.hidden_size:]\n",
        "        output = torch.cat((forward_output, backward_output))\n",
        "        return output, hidden\n",
        "\n",
        "    def initHidden(self):\n",
        "        return (torch.zeros(4, 1, self.hidden_size, device=device), torch.zeros(4, 1, self.hidden_size, device=device))\n"
      ],
      "execution_count": 0,
      "outputs": []
    },
    {
      "cell_type": "code",
      "metadata": {
        "id": "jnGIZcBmh4sB",
        "colab_type": "code",
        "colab": {}
      },
      "source": [
        "%matplotlib inline\n",
        "class DecoderRNN(nn.Module):\n",
        "    def __init__(self, hidden_size, output_size):\n",
        "        super(DecoderRNN, self).__init__()\n",
        "        self.hidden_size = hidden_size\n",
        "\n",
        "        self.embedding = nn.Embedding(output_size, hidden_size)\n",
        "        self.gru = nn.GRU(hidden_size, hidden_size)\n",
        "        self.out = nn.Linear(hidden_size, output_size)\n",
        "        self.softmax = nn.LogSoftmax(dim=1)\n",
        "\n",
        "    def forward(self, input, hidden):\n",
        "        output = self.embedding(input).view(1, 1, -1)\n",
        "        output = F.relu(output)\n",
        "        output, hidden = self.gru(output, hidden)\n",
        "        output = self.softmax(self.out(output[0]))\n",
        "        return output, hidden\n",
        "\n",
        "    def initHidden(self):\n",
        "        return torch.zeros(1, 1, self.hidden_size, device=device)"
      ],
      "execution_count": 0,
      "outputs": []
    },
    {
      "cell_type": "code",
      "metadata": {
        "id": "ZRvz5oqrh5FP",
        "colab_type": "code",
        "colab": {}
      },
      "source": [
        "%matplotlib inline\n",
        "class AttnDecoderRNN(nn.Module):\n",
        "    def __init__(self, hidden_size, output_size, dropout_p=0.1, max_length=MAX_LENGTH):\n",
        "        super(AttnDecoderRNN, self).__init__()\n",
        "        self.hidden_size = hidden_size\n",
        "        self.output_size = output_size\n",
        "        self.dropout_p = dropout_p\n",
        "        self.max_length = max_length\n",
        "\n",
        "        self.embedding = nn.Embedding(self.output_size, self.hidden_size)\n",
        "        self.attn = nn.Linear(self.hidden_size * 2, self.max_length)\n",
        "        self.attn_combine = nn.Linear(self.hidden_size * 2, self.hidden_size)\n",
        "        self.dropout = nn.Dropout(self.dropout_p)\n",
        "        self.lstm = nn.LSTM(self.hidden_size, self.hidden_size, num_layers = 2, bidirectional = True)\n",
        "        self.out = nn.Linear(self.hidden_size, self.output_size)\n",
        "\n",
        "    def forward(self, input, hidden, encoder_outputs):\n",
        "        embedded = self.embedding(input).view(1, 1, -1)\n",
        "        embedded = self.dropout(embedded)\n",
        "\n",
        "        attn_weights = F.softmax(\n",
        "            self.attn(torch.cat((embedded[0], hidden[0][0]), 1)), dim=1)\n",
        "        attn_applied = torch.bmm(attn_weights.unsqueeze(0),\n",
        "                                 encoder_outputs.unsqueeze(0))\n",
        "\n",
        "        output = torch.cat((embedded[0], attn_applied[0]), 1)\n",
        "        output = self.attn_combine(output).unsqueeze(0)\n",
        "\n",
        "        output = F.relu(output)\n",
        "        output, hidden = self.lstm(output, hidden)\n",
        "       \n",
        "        forward_output, backward_output = \\\n",
        "            output[:, :, :self.hidden_size], output[:, :, self.hidden_size:]\n",
        "       \n",
        "        output = torch.cat((forward_output, backward_output))\n",
        "        output = F.log_softmax(self.out(output[0]), dim=1)\n",
        "        return output, hidden, attn_weights\n",
        "\n",
        "    def initHidden(self):\n",
        "        return (torch.zeros(4, 1, self.hidden_size, device=device), torch.zeros(4, 1, self.hidden_size, device=device))"
      ],
      "execution_count": 0,
      "outputs": []
    },
    {
      "cell_type": "code",
      "metadata": {
        "id": "gphVcRMNh7zc",
        "colab_type": "code",
        "colab": {}
      },
      "source": [
        "def indexesFromSentence(lang, sentence):\n",
        "    %matplotlib inline\n",
        "    return [lang.word2index[word] for word in sentence.split(' ')]\n",
        "\n",
        "\n",
        "def tensorFromSentence(lang, sentence):\n",
        "    indexes = indexesFromSentence(lang, sentence)\n",
        "    indexes.append(EOS_token)\n",
        "    return torch.tensor(indexes, dtype=torch.long, device=device).view(-1, 1)\n",
        "\n",
        "\n",
        "def tensorsFromPair(pair):\n",
        "    input_tensor = tensorFromSentence(input_lang, pair[0])\n",
        "    target_tensor = tensorFromSentence(output_lang, pair[1])\n",
        "    return (input_tensor, target_tensor)"
      ],
      "execution_count": 0,
      "outputs": []
    },
    {
      "cell_type": "code",
      "metadata": {
        "id": "gV5CJa24h9sa",
        "colab_type": "code",
        "colab": {}
      },
      "source": [
        "%matplotlib inline\n",
        "teacher_forcing_ratio = 0.5\n",
        "\n",
        "def train(input_tensor, target_tensor, encoder, decoder, encoder_optimizer, decoder_optimizer, criterion, max_length=MAX_LENGTH):\n",
        "    encoder_hidden = encoder.initHidden()\n",
        "    %matplotlib inline\n",
        "\n",
        "    encoder_optimizer.zero_grad()\n",
        "    decoder_optimizer.zero_grad()\n",
        "\n",
        "    input_length = input_tensor.size(0)\n",
        "    target_length = target_tensor.size(0)\n",
        "\n",
        "    encoder_outputs = torch.zeros(max_length, encoder.hidden_size, device=device)\n",
        "\n",
        "    loss = 0\n",
        "\n",
        "    for ei in range(input_length):\n",
        "        encoder_output, encoder_hidden = encoder(\n",
        "            input_tensor[ei], encoder_hidden)\n",
        "       \n",
        "        encoder_outputs[ei] = encoder_output[0]\n",
        "\n",
        "    decoder_input = torch.tensor([[SOS_token]], device=device)\n",
        "\n",
        "    decoder_hidden = encoder_hidden\n",
        "\n",
        "    use_teacher_forcing = True if random.random() < teacher_forcing_ratio else False\n",
        "\n",
        "    if use_teacher_forcing:\n",
        "        # Teacher forcing: Feed the target as the next input\n",
        "        for di in range(target_length):\n",
        "            decoder_output, decoder_hidden, decoder_attention = decoder(\n",
        "                decoder_input, decoder_hidden, encoder_outputs)\n",
        "            loss += criterion(decoder_output, target_tensor[di])\n",
        "            decoder_input = target_tensor[di]  # Teacher forcing\n",
        "\n",
        "    else:\n",
        "        # Without teacher forcing: use its own predictions as the next input\n",
        "        for di in range(target_length):\n",
        "            decoder_output, decoder_hidden, decoder_attention = decoder(\n",
        "                decoder_input, decoder_hidden, encoder_outputs)\n",
        "            topv, topi = decoder_output.topk(1)\n",
        "            decoder_input = topi.squeeze().detach()  # detach from history as input\n",
        "\n",
        "            loss += criterion(decoder_output, target_tensor[di])\n",
        "            if decoder_input.item() == EOS_token:\n",
        "                break\n",
        "\n",
        "    loss.backward()\n",
        "\n",
        "    encoder_optimizer.step()\n",
        "    decoder_optimizer.step()\n",
        "\n",
        "    return loss.item() / target_length\n"
      ],
      "execution_count": 0,
      "outputs": []
    },
    {
      "cell_type": "code",
      "metadata": {
        "id": "peeE6JT7h_x4",
        "colab_type": "code",
        "colab": {}
      },
      "source": [
        "%matplotlib inline\n",
        "import time\n",
        "import math\n",
        "\n",
        "\n",
        "def asMinutes(s):\n",
        "    m = math.floor(s / 60)\n",
        "    s -= m * 60\n",
        "    return '%dm %ds' % (m, s)\n",
        "\n",
        "\n",
        "def timeSince(since, percent):\n",
        "    now = time.time()\n",
        "    s = now - since\n",
        "    es = s / (percent)\n",
        "    rs = es - s\n",
        "    return '%s (- %s)' % (asMinutes(s), asMinutes(rs))"
      ],
      "execution_count": 0,
      "outputs": []
    },
    {
      "cell_type": "code",
      "metadata": {
        "id": "eiqaw5_ZmYJk",
        "colab_type": "code",
        "outputId": "d3521cc5-42fa-4aee-a7e4-fe450eb308bf",
        "colab": {
          "base_uri": "https://localhost:8080/",
          "height": 34
        }
      },
      "source": [
        "random.choice(pairs)"
      ],
      "execution_count": 0,
      "outputs": [
        {
          "output_type": "execute_result",
          "data": {
            "text/plain": [
              "['united states customary units', 'संयुक्त राज्य परंपरागत इकाइयाँ']"
            ]
          },
          "metadata": {
            "tags": []
          },
          "execution_count": 25
        }
      ]
    },
    {
      "cell_type": "code",
      "metadata": {
        "id": "oZODd7zMm7ua",
        "colab_type": "code",
        "outputId": "16b71239-6c39-4bf2-a491-bc9afc1a6be7",
        "colab": {
          "base_uri": "https://localhost:8080/",
          "height": 34
        }
      },
      "source": [
        "len(pairs)"
      ],
      "execution_count": 0,
      "outputs": [
        {
          "output_type": "execute_result",
          "data": {
            "text/plain": [
              "182030"
            ]
          },
          "metadata": {
            "tags": []
          },
          "execution_count": 26
        }
      ]
    },
    {
      "cell_type": "code",
      "metadata": {
        "id": "s9NBTahGiJWm",
        "colab_type": "code",
        "colab": {}
      },
      "source": [
        "%matplotlib inline\n",
        "def trainIters(encoder, decoder, n_epochs, learning_rate, print_every=50000, plot_every=50000):\n",
        "    %matplotlib inline\n",
        "    start = time.time()\n",
        "    plot_losses = []\n",
        "    print_loss_total = 0  # Reset every print_every\n",
        "    plot_loss_total = 0  # Reset every plot_every\n",
        "\n",
        "    encoder_optimizer = optim.SGD(encoder.parameters(), lr=learning_rate)\n",
        "    decoder_optimizer = optim.SGD(decoder.parameters(), lr=learning_rate)\n",
        "    training_pairs = [tensorsFromPair(pairs[i]) for i in range(len(pairs))]\n",
        "    criterion = nn.NLLLoss()\n",
        "    \n",
        "    n_iters = len(pairs)\n",
        "    for e in range(1, n_epochs + 1):\n",
        "        for iter in range(1, len(pairs) + 1):\n",
        "            training_pair = training_pairs[iter - 1]\n",
        "            input_tensor = training_pair[0]\n",
        "            target_tensor = training_pair[1]\n",
        "\n",
        "            loss = train(input_tensor, target_tensor, encoder,\n",
        "                        decoder, encoder_optimizer, decoder_optimizer, criterion)\n",
        "            print_loss_total += loss\n",
        "            plot_loss_total += loss\n",
        "\n",
        "            if iter % print_every == 0:\n",
        "                print_loss_avg = print_loss_total / print_every\n",
        "                print_loss_total = 0\n",
        "                print('%s (%d %d%%) %.4f' % (timeSince(start, iter / n_iters),\n",
        "                                            iter, iter / n_iters * 100, print_loss_avg))\n",
        "\n",
        "            if iter % plot_every == 0:\n",
        "                plot_loss_avg = plot_loss_total / plot_every\n",
        "                plot_losses.append(plot_loss_avg)\n",
        "                plot_loss_total = 0\n",
        "\n",
        "    showPlot(plot_losses)\n"
      ],
      "execution_count": 0,
      "outputs": []
    },
    {
      "cell_type": "code",
      "metadata": {
        "id": "NapCtOBwiLfS",
        "colab_type": "code",
        "colab": {}
      },
      "source": [
        "%matplotlib inline\n",
        "import matplotlib.pyplot as plt\n",
        "plt.switch_backend('agg')\n",
        "import matplotlib.ticker as ticker\n",
        "import numpy as np\n",
        "\n",
        "\n",
        "def showPlot(points):\n",
        "    %matplotlib inline\n",
        "    plt.figure()\n",
        "    fig, ax = plt.subplots()\n",
        "    # this locator puts ticks at regular intervals\n",
        "    loc = ticker.MultipleLocator(base=0.2)\n",
        "    ax.yaxis.set_major_locator(loc)\n",
        "    plt.plot(points)"
      ],
      "execution_count": 0,
      "outputs": []
    },
    {
      "cell_type": "code",
      "metadata": {
        "id": "baE-iOfZiNXM",
        "colab_type": "code",
        "colab": {}
      },
      "source": [
        "def evaluate(encoder, decoder, sentence, max_length=MAX_LENGTH):\n",
        "    %matplotlib inline\n",
        "    with torch.no_grad():\n",
        "        input_tensor = tensorFromSentence(input_lang, sentence)\n",
        "        input_length = input_tensor.size()[0]\n",
        "        encoder_hidden = encoder.initHidden()\n",
        "\n",
        "        encoder_outputs = torch.zeros(max_length, encoder.hidden_size, device=device)\n",
        "\n",
        "        for ei in range(input_length):\n",
        "            encoder_output, encoder_hidden = encoder(input_tensor[ei],\n",
        "                                                     encoder_hidden)\n",
        "           \n",
        "            encoder_outputs[ei] += encoder_output[0, 0]\n",
        "                     \n",
        "\n",
        "        decoder_input = torch.tensor([[SOS_token]], device=device)  # SOS\n",
        "\n",
        "        decoder_hidden = encoder_hidden\n",
        "\n",
        "        decoded_words = []\n",
        "        decoder_attentions = torch.zeros(max_length, max_length)\n",
        "\n",
        "        for di in range(max_length):\n",
        "            decoder_output, decoder_hidden, decoder_attention = decoder(\n",
        "                decoder_input, decoder_hidden, encoder_outputs)\n",
        "            decoder_attentions[di] = decoder_attention.data\n",
        "            topv, topi = decoder_output.data.topk(1)\n",
        "            if topi.item() == EOS_token:\n",
        "                decoded_words.append('')\n",
        "                break\n",
        "            else:\n",
        "                decoded_words.append(output_lang.index2word[topi.item()])\n",
        "\n",
        "            decoder_input = topi.squeeze().detach()\n",
        "\n",
        "        return decoded_words, decoder_attentions[:di + 1]"
      ],
      "execution_count": 0,
      "outputs": []
    },
    {
      "cell_type": "code",
      "metadata": {
        "id": "IemLtNFLiP-z",
        "colab_type": "code",
        "colab": {}
      },
      "source": [
        "def evaluateRandomly(encoder, decoder, n=5):\n",
        "    from nltk.translate.bleu_score import sentence_bleu\n",
        "    %matplotlib inline\n",
        "    for i in range(n):\n",
        "        pair = random.choice(pairs)\n",
        "        print('English: ', pair[0])\n",
        "        print('Actual: ', pair[1])\n",
        "        output_words, attentions = evaluate(encoder, decoder, pair[0])\n",
        "        output_sentence = ' '.join(output_words)\n",
        "        print('Predicted: ', output_sentence)\n",
        "        act = pair[1].split()\n",
        "        pred = output_sentence.split()\n",
        "        print('Cumulative 1-gram: %f' % sentence_bleu([act], pred, weights=(1, 0, 0, 0)))\n",
        "        print('Cumulative 2-gram: %f' % sentence_bleu([act], pred, weights=(0.5, 0.5, 0, 0)))\n",
        "        print('Cumulative 3-gram: %f' % sentence_bleu([act], pred, weights=(0.33, 0.33, 0.33, 0)))\n",
        "        print('Cumulative 4-gram: %f' % sentence_bleu([act], pred, weights=(0.25, 0.25, 0.25, 0.25)))\n",
        "        score = sentence_bleu([act], pred)\n",
        "        print(score)\n",
        "        print('')"
      ],
      "execution_count": 0,
      "outputs": []
    },
    {
      "cell_type": "code",
      "metadata": {
        "id": "nbORoOHeiSY-",
        "colab_type": "code",
        "colab": {}
      },
      "source": [
        "%matplotlib inline\n",
        "hidden_size = 256\n",
        "encoder1 = EncoderRNN(input_lang.n_words, hidden_size).to(device)\n",
        "attn_decoder1 = AttnDecoderRNN(hidden_size, output_lang.n_words, dropout_p=0.1).to(device)\n",
        "\n",
        "\n",
        "encoder1.load_state_dict(torch.load('encoder_lstm_8ep.pkl'))\n",
        "attn_decoder1.load_state_dict(torch.load('decoder_lstm_8ep.pkl'))\n",
        "\n",
        "trainIters(encoder1, attn_decoder1, 1, print_every=20000, learning_rate=0.0001)\n",
        "\n",
        "torch.save(encoder1.state_dict(),'encoder_lstm_9ep.pkl')\n",
        "torch.save(attn_decoder1.state_dict(),'decoder_lstm_9ep.pkl')\n"
      ],
      "execution_count": 0,
      "outputs": []
    },
    {
      "cell_type": "code",
      "metadata": {
        "id": "EcLk4pQpiwd-",
        "colab_type": "code",
        "colab": {}
      },
      "source": [
        "evaluateRandomly(encoder1, attn_decoder1)"
      ],
      "execution_count": 0,
      "outputs": []
    },
    {
      "cell_type": "code",
      "metadata": {
        "id": "iQMfvqGrH5mo",
        "colab_type": "code",
        "colab": {}
      },
      "source": [
        "#Flickr8 Dataset Img Captioning \n",
        "\n",
        "sent1 = \" Two dogs are running together through the grass \"\n",
        "sent2 = \" man is on a big wave\"\n",
        "sent3 = \" man in a helmet rides a bike prediction\"\n",
        "#sent4 = \" man on a surfboard \"\n",
        "sent5 = \"woman and a woman are smiling and smiling\"\n",
        "sent6 = \"group of people are sitting on a bench\"\n",
        "sent7 = \" football player in a red uniform is running \"\n",
        "sent8 = \"man in a blue shirt and blue shorts is on the street\"\n",
        "sent9 = \"two brown dogs are playing in the snow\"\n",
        "\n",
        "\n",
        "\n",
        "\n",
        "output_words1, attentions1 = evaluate(encoder1, attn_decoder1, sent1.lower())\n",
        "output_words2, attentions2 = evaluate(encoder1, attn_decoder1, sent2.lower())\n",
        "output_words3, attentions3 = evaluate(encoder1, attn_decoder1, sent3.lower())\n",
        "#output_words4, attentions4 = evaluate(encoder1, attn_decoder1, sent4.lower())\n",
        "output_words5, attentions5 = evaluate(encoder1, attn_decoder1, sent5.lower())\n",
        "output_words6, attentions6 = evaluate(encoder1, attn_decoder1, sent6.lower())\n",
        "output_words7, attentions7 = evaluate(encoder1, attn_decoder1, sent7.lower())\n",
        "output_words8, attentions8 = evaluate(encoder1, attn_decoder1, sent8.lower())\n",
        "output_words9, attentions9 = evaluate(encoder1, attn_decoder1, sent9.lower())\n",
        "\n",
        "output_sentence1 = ' '.join(output_words1)\n",
        "output_sentence2 = ' '.join(output_words2)\n",
        "output_sentence3 = ' '.join(output_words3)\n",
        "#output_sentence4 = ' '.join(output_words4)\n",
        "output_sentence5 = ' '.join(output_words5)\n",
        "output_sentence6 = ' '.join(output_words6)\n",
        "output_sentence7 = ' '.join(output_words7)\n",
        "output_sentence8 = ' '.join(output_words8)\n",
        "output_sentence9 = ' '.join(output_words9)\n",
        "\n",
        "\n",
        "print('Predicted1: ', output_sentence1)\n",
        "print('Predicted2: ', output_sentence2)\n",
        "print('Predicted3: ', output_sentence3)\n",
        "#print('Predicted4: ', output_sentence4)\n",
        "print('Predicted5: ', output_sentence5)\n",
        "print('Predicted6: ', output_sentence6)\n",
        "print('Predicted7: ', output_sentence7)\n",
        "print('Predicted8: ', output_sentence8)\n",
        "print('Predicted9: ', output_sentence9)"
      ],
      "execution_count": 0,
      "outputs": []
    },
    {
      "cell_type": "code",
      "metadata": {
        "id": "W_vSLTDyorZM",
        "colab_type": "code",
        "colab": {}
      },
      "source": [
        "sent1 = \" Two dogs are running together through the grass \"\n",
        "sent2 = \" man is on a big wave\"\n",
        "sent3 = \" man in a helmet rides a bike prediction\"\n",
        "#sent4 = \" man on a surfboard \"\n",
        "sent5 = \"woman and a woman are smiling and smiling\"\n",
        "sent6 = \"group of people are sitting on a bench\"\n",
        "sent7 = \" football player in a red uniform is running \"\n",
        "sent8 = \"man in a blue shirt and blue shorts is on the street\"\n",
        "sent9 = \"two brown dogs are playing in the snow\""
      ],
      "execution_count": 0,
      "outputs": []
    },
    {
      "cell_type": "code",
      "metadata": {
        "id": "OuEw2TBg2eut",
        "colab_type": "code",
        "colab": {}
      },
      "source": [
        "#sent1 = \"Two dogs are running\"\n",
        "#sent2 = \"man in red shirt and black pants is standing on wooden bench\"\n",
        "#sent3 = \"man in jacket is sitting on rock\"\n",
        "#sent4 = \"man is battling waves in purple boat while wearing rain gear\"\n",
        "#sent5 = \"man in yellow suit is holding up cup while standing in snow\"\n",
        "#sent6 = \"blonde horse and blonde girl in black are staring at fire in barrel\"\n",
        "#sent7 = \"Two people and two horses watching fire\"\n",
        "#sent8 = \"small pale bird down to examine and small white bird looks at small object\"\n",
        "\n",
        "#output_words1, attentions1 = evaluate(encoder1, attn_decoder1, sent1.lower())\n",
        "#output_words2, attentions2 = evaluate(encoder1, attn_decoder1, sent2.lower())\n",
        "#output_words3, attentions3 = evaluate(encoder1, attn_decoder1, sent3.lower())\n",
        "#output_words4, attentions4 = evaluate(encoder1, attn_decoder1, sent4.lower())\n",
        "#output_words5, attentions5 = evaluate(encoder1, attn_decoder1, sent5.lower())\n",
        "#output_words6, attentions6 = evaluate(encoder1, attn_decoder1, sent6.lower())\n",
        "#output_words7, attentions7 = evaluate(encoder1, attn_decoder1, sent7.lower())\n",
        "#output_words8, attentions8 = evaluate(encoder1, attn_decoder1, sent8.lower())\n",
        "\n",
        "#output_sentence1 = ' '.join(output_words1)\n",
        "#output_sentence2 = ' '.join(output_words2)\n",
        "#output_sentence3 = ' '.join(output_words3)\n",
        "#output_sentence4 = ' '.join(output_words4)\n",
        "#output_sentence5 = ' '.join(output_words5)\n",
        "#output_sentence6 = ' '.join(output_words6)\n",
        "#output_sentence7 = ' '.join(output_words7)\n",
        "#output_sentence8 = ' '.join(output_words8)\n",
        "\n",
        "\n",
        "#print('Predicted1: ', output_sentence1)\n",
        "#print('Predicted2: ', output_sentence2)\n",
        "#print('Predicted3: ', output_sentence3)\n",
        "#print('Predicted4: ', output_sentence4)\n",
        "#print('Predicted5: ', output_sentence5)\n",
        "#print('Predicted6: ', output_sentence6)\n",
        "#print('Predicted7: ', output_sentence7)\n",
        "#print('Predicted8: ', output_sentence8)\n"
      ],
      "execution_count": 0,
      "outputs": []
    },
    {
      "cell_type": "code",
      "metadata": {
        "id": "Hbgnoo5lkJ3t",
        "colab_type": "code",
        "colab": {}
      },
      "source": [
        "sent1 = \"Two dogs are running\"\n",
        "sent2 = \"man in red shirt and black pants is standing on wooden bench\"\n",
        "sent3 = \"man in jacket is sitting on rock\"\n",
        "sent4 = \"man is battling waves in purple boat while wearing rain gear\"\n",
        "sent5 = \"man in yellow suit is holding up cup while standing in snow\"\n",
        "sent6 = \"blonde horse and blonde girl in black are staring at fire in barrel\"\n",
        "sent7 = \"Two people and two horses watching fire\"\n",
        "sent8 = \"small pale bird down to examine and small white bird looks at small object\""
      ],
      "execution_count": 0,
      "outputs": []
    },
    {
      "cell_type": "code",
      "metadata": {
        "id": "jMn7Shaf-nRX",
        "colab_type": "code",
        "colab": {}
      },
      "source": [
        "#FLickr8Dataset for LSTM\n",
        "\n",
        "\n",
        "sent1 = \" man and woman sit on a car and watch the road\"\n",
        "sent2 = \" dog runs through tall grass \"\n",
        "sent3 = \" A brown dog playing in mud\"\n",
        "sent4 = \" dog is playing in water \"\n",
        "sent5 = \" woman wearing a pearl necklace \"\n",
        "sent6 = \" couple sits on a car \"\n",
        "sent7 = \" man and woman sitting on a parked car \"\n",
        "sent8 = \" dog in a field \"\n",
        "\n",
        "\n",
        "output_words1, attentions1 = evaluate(encoder1, attn_decoder1, sent1.lower())\n",
        "output_words2, attentions2 = evaluate(encoder1, attn_decoder1, sent2.lower())\n",
        "output_words3, attentions3 = evaluate(encoder1, attn_decoder1, sent3.lower())\n",
        "output_words4, attentions4 = evaluate(encoder1, attn_decoder1, sent4.lower())\n",
        "output_words5, attentions5 = evaluate(encoder1, attn_decoder1, sent5.lower())\n",
        "output_words6, attentions6 = evaluate(encoder1, attn_decoder1, sent6.lower())\n",
        "output_words7, attentions7 = evaluate(encoder1, attn_decoder1, sent7.lower())\n",
        "output_words8, attentions8 = evaluate(encoder1, attn_decoder1, sent8.lower())\n",
        "\n",
        "output_sentence1 = ' '.join(output_words1)\n",
        "output_sentence2 = ' '.join(output_words2)\n",
        "output_sentence3 = ' '.join(output_words3)\n",
        "output_sentence4 = ' '.join(output_words4)\n",
        "output_sentence5 = ' '.join(output_words5)\n",
        "output_sentence6 = ' '.join(output_words6)\n",
        "output_sentence7 = ' '.join(output_words7)\n",
        "output_sentence8 = ' '.join(output_words8)\n",
        "\n",
        "\n",
        "print('Predicted1: ', output_sentence1)\n",
        "print('Predicted2: ', output_sentence2)\n",
        "print('Predicted3: ', output_sentence3)\n",
        "print('Predicted4: ', output_sentence4)\n",
        "print('Predicted5: ', output_sentence5)\n",
        "print('Predicted6: ', output_sentence6)\n",
        "print('Predicted7: ', output_sentence7)\n",
        "print('Predicted8: ', output_sentence8)\n"
      ],
      "execution_count": 0,
      "outputs": []
    },
    {
      "cell_type": "code",
      "metadata": {
        "id": "JZxVkpcjrx1h",
        "colab_type": "code",
        "colab": {}
      },
      "source": [
        "sent1 = \" man and woman sit on a car and watch the road\"\n",
        "sent2 = \" dog runs through tall grass \"\n",
        "sent3 = \" A brown dog playing in mud\"\n",
        "sent4 = \" dog is playing in water \"\n",
        "sent5 = \" woman wearing a pearl necklace \"\n",
        "sent6 = \" couple sits on a car \"\n",
        "sent7 = \" man and woman sitting on a parked car \"\n",
        "sent8 = \" dog in a field \""
      ],
      "execution_count": 0,
      "outputs": []
    },
    {
      "cell_type": "code",
      "metadata": {
        "id": "IBGdPJD9jlBC",
        "colab_type": "code",
        "colab": {}
      },
      "source": [
        "#Hindencorp sentences\n",
        "\n",
        "\n",
        "sent1 = \"The ending portion of these Vedas is called Upanishad\"\n",
        "sent2 = \"Please ensure that you use the appropriate form\"\n",
        "sent3 = \"General Insurance Corporation of India\"\n",
        "sent4 = \"There are also financial reforms in rural China\"\n",
        "sent5 = \"Twenty of the years from 1860 to 1908 were years of famine\"\n",
        "sent6 = \"This change has contributed\"\n",
        "sent7 = \"Default Mail Client \"\n",
        "sent8 = \"File Management Preferences\"\n",
        "\n",
        "\n",
        "output_words1, attentions1 = evaluate(encoder1, attn_decoder1, sent1.lower())\n",
        "output_words2, attentions2 = evaluate(encoder1, attn_decoder1, sent2.lower())\n",
        "output_words3, attentions3 = evaluate(encoder1, attn_decoder1, sent3.lower())\n",
        "output_words4, attentions4 = evaluate(encoder1, attn_decoder1, sent4.lower())\n",
        "output_words5, attentions5 = evaluate(encoder1, attn_decoder1, sent5.lower())\n",
        "output_words6, attentions6 = evaluate(encoder1, attn_decoder1, sent6.lower())\n",
        "output_words7, attentions7 = evaluate(encoder1, attn_decoder1, sent7.lower())\n",
        "output_words8, attentions8 = evaluate(encoder1, attn_decoder1, sent8.lower())\n",
        "\n",
        "output_sentence1 = ' '.join(output_words1)\n",
        "output_sentence2 = ' '.join(output_words2)\n",
        "output_sentence3 = ' '.join(output_words3)\n",
        "output_sentence4 = ' '.join(output_words4)\n",
        "output_sentence5 = ' '.join(output_words5)\n",
        "output_sentence6 = ' '.join(output_words6)\n",
        "output_sentence7 = ' '.join(output_words7)\n",
        "output_sentence8 = ' '.join(output_words8)\n",
        "\n",
        "\n",
        "print('Predicted1: ', output_sentence1)\n",
        "print('Predicted2: ', output_sentence2)\n",
        "print('Predicted3: ', output_sentence3)\n",
        "print('Predicted4: ', output_sentence4)\n",
        "print('Predicted5: ', output_sentence5)\n",
        "print('Predicted6: ', output_sentence6)\n",
        "print('Predicted7: ', output_sentence7)\n",
        "print('Predicted8: ', output_sentence8)\n"
      ],
      "execution_count": 0,
      "outputs": []
    },
    {
      "cell_type": "code",
      "metadata": {
        "id": "PDUmXVzNr53R",
        "colab_type": "code",
        "colab": {}
      },
      "source": [
        "sent1 = \"The ending portion of these Vedas is called Upanishad\"\n",
        "sent2 = \"Please ensure that you use the appropriate form\"\n",
        "sent3 = \"General Insurance Corporation of India\"\n",
        "sent4 = \"There are also financial reforms in rural China\"\n",
        "sent5 = \"Twenty of the years from 1860 to 1908 were years of famine\"\n",
        "sent6 = \"This change has contributed\"\n",
        "sent7 = \"Default Mail Client \"\n",
        "sent8 = \"File Management Preferences\""
      ],
      "execution_count": 0,
      "outputs": []
    }
  ]
}