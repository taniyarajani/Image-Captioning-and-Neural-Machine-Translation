{
  "nbformat": 4,
  "nbformat_minor": 0,
  "metadata": {
    "colab": {
      "name": "NMT_Eng2Hin_LSTM_BDM_Tarun.ipynb",
      "provenance": [],
      "collapsed_sections": []
    },
    "kernelspec": {
      "name": "python3",
      "display_name": "Python 3"
    },
    "accelerator": "GPU"
  },
  "cells": [
    {
      "cell_type": "code",
      "metadata": {
        "id": "X7gRyyT2e_T6",
        "colab_type": "code",
        "outputId": "2d062e0e-49e0-4099-fc74-8e15a34724fe",
        "colab": {
          "base_uri": "https://localhost:8080/",
          "height": 121
        }
      },
      "source": [
        "from google.colab import drive\n",
        "drive.mount('/content/drive')"
      ],
      "execution_count": 0,
      "outputs": [
        {
          "output_type": "stream",
          "text": [
            "Go to this URL in a browser: https://accounts.google.com/o/oauth2/auth?client_id=947318989803-6bn6qk8qdgf4n4g3pfee6491hc0brc4i.apps.googleusercontent.com&redirect_uri=urn%3aietf%3awg%3aoauth%3a2.0%3aoob&response_type=code&scope=email%20https%3a%2f%2fwww.googleapis.com%2fauth%2fdocs.test%20https%3a%2f%2fwww.googleapis.com%2fauth%2fdrive%20https%3a%2f%2fwww.googleapis.com%2fauth%2fdrive.photos.readonly%20https%3a%2f%2fwww.googleapis.com%2fauth%2fpeopleapi.readonly\n",
            "\n",
            "Enter your authorization code:\n",
            "··········\n",
            "Mounted at /content/drive\n"
          ],
          "name": "stdout"
        }
      ]
    },
    {
      "cell_type": "code",
      "metadata": {
        "id": "2cwnskIVfLKd",
        "colab_type": "code",
        "outputId": "4302ee1f-2fb3-4c77-bf74-6547211d21eb",
        "colab": {
          "base_uri": "https://localhost:8080/",
          "height": 235
        }
      },
      "source": [
        "%cd /content/drive/My\\ Drive/Colab\\ Notebooks/Project/\n",
        "!ls -la"
      ],
      "execution_count": 0,
      "outputs": [
        {
          "output_type": "stream",
          "text": [
            "/content/drive/My Drive/Colab Notebooks/Project\n",
            "total 1310220\n",
            "-rw------- 1 root root 152979584 Apr 27 16:50 decoder_nmt_lstmbidim_gnhind2.pkl\n",
            "-rw------- 1 root root 152979586 Apr 27 20:37 decoder_nmt_lstmbidim_gnhind3.pkl\n",
            "-rw------- 1 root root 152979594 Apr 25 06:25 decoder_nmt_lstmbidim_gnhind.pkl\n",
            "-rw------- 1 root root 457787501 Apr 20 09:49 decoder_nmt.pkl\n",
            "-rw------- 1 root root  66344095 Apr 27 16:52 encoder_nmt_lstmbidim_gnhind2.pkl\n",
            "-rw------- 1 root root  66344095 Apr 27 20:37 encoder_nmt_lstmbidim_gnhind3.pkl\n",
            "-rw------- 1 root root  66344095 Apr 25 06:25 encoder_nmt_lstmbidim_gnhind.pkl\n",
            "-rw------- 1 root root 129761160 Apr 20 09:49 encoder_nmt.pkl\n",
            "-rw------- 1 root root     40280 Apr 23 07:59 NMT_Eng2Hin_Shreiya.ipynb\n",
            "drwx------ 2 root root      4096 Apr 20 03:24 parallel\n",
            "-rw------- 1 root root  96098008 Apr 19 17:14 parallel.tgz\n"
          ],
          "name": "stdout"
        }
      ]
    },
    {
      "cell_type": "code",
      "metadata": {
        "id": "CU49P3nzfWBR",
        "colab_type": "code",
        "outputId": "7277acac-c281-4a3f-b10d-2a595c015f5e",
        "colab": {
          "base_uri": "https://localhost:8080/",
          "height": 67
        }
      },
      "source": [
        "# Download parallel.tgz from IIT Bombay English Hindi parallel corpus (http://www.cfilt.iitb.ac.in/iitb_parallel/) and Extract it\n",
        "!tar zxvf parallel.tgz"
      ],
      "execution_count": 0,
      "outputs": [
        {
          "output_type": "stream",
          "text": [
            "parallel/\n",
            "parallel/IITB.en-hi.hi\n",
            "parallel/IITB.en-hi.en\n"
          ],
          "name": "stdout"
        }
      ]
    },
    {
      "cell_type": "code",
      "metadata": {
        "id": "_GIX-NTpfWDr",
        "colab_type": "code",
        "colab": {}
      },
      "source": [
        "# Combining English and Hindi file with tab separation\n",
        "!paste -d \"\\t\" parallel/IITB.en-hi.en parallel/IITB.en-hi.hi > parallel/eng-hin.txt"
      ],
      "execution_count": 0,
      "outputs": []
    },
    {
      "cell_type": "code",
      "metadata": {
        "id": "1RaSkb_U44LP",
        "colab_type": "code",
        "colab": {}
      },
      "source": [
        "# Use below commands to extract sentences corresponding to the source we are interested in\n",
        "\n",
        "!sed -n 1,145706p parallel/eng-hin.txt > parallel/gnome.txt\n",
        "!sed -n 145707,242933p parallel/IITB.en-hi.en > parallel/kde4.txt\n",
        "# !sed -n 430014,434711p parallel/eng-hin.txt > parallel/tatoeba.txt\n",
        "# !sed -n 434712,438933p par  allel/eng-hin.txt > parallel/opensubs.txt\n",
        "!sed -n 438934,712818p parallel/eng-hin.txt > parallel/hindencorp.txt\n",
        "# !sed -n 712819,887993p parallel/eng-hin.txt > parallel/wordnet.txt\n",
        "# !sed -n 887994,954467p parallel/eng-hin.txt > parallel/mahaadd.txt\n",
        "# !sed -n 954468,1001292p parallel/eng-hin.txt > parallel/mahaade.txt\n",
        "# !sed -n 1001293,1047815p parallel/eng-hin.txt > parallel/mahaadde.txt\n",
        "# !sed -n 1047815,1090398p parallel/eng-hin.txt > parallel/ted.txt"
      ],
      "execution_count": 0,
      "outputs": []
    },
    {
      "cell_type": "code",
      "metadata": {
        "id": "G5y_YJqt5a6r",
        "colab_type": "code",
        "colab": {}
      },
      "source": [
        "# Combining Gnome and HindEnCorp sentences\n",
        "!cat parallel/gnome.txt parallel/hindencorp.txt > parallel/eng-hin_gnhind.txt"
      ],
      "execution_count": 0,
      "outputs": []
    },
    {
      "cell_type": "code",
      "metadata": {
        "id": "WpxRW6ko53PZ",
        "colab_type": "code",
        "outputId": "a8c96984-227d-41b1-8fa9-e6ee0148abcb",
        "colab": {
          "base_uri": "https://localhost:8080/",
          "height": 34
        }
      },
      "source": [
        "# Length of dataset\n",
        "!wc -l parallel/eng-hin_gnhind.txt"
      ],
      "execution_count": 0,
      "outputs": [
        {
          "output_type": "stream",
          "text": [
            "419591 parallel/eng-hin_gnhind.txt\n"
          ],
          "name": "stdout"
        }
      ]
    },
    {
      "cell_type": "code",
      "metadata": {
        "id": "OdXxWsk9gQu2",
        "colab_type": "code",
        "outputId": "3d1991b0-0d0f-44cc-ccee-1cccca1005c3",
        "colab": {
          "base_uri": "https://localhost:8080/",
          "height": 373
        }
      },
      "source": [
        "# Some examples\n",
        "!tail -20 parallel/eng-hin_gnkdhind.txt"
      ],
      "execution_count": 0,
      "outputs": [
        {
          "output_type": "stream",
          "text": [
            "Certain other tests may be necessary for special cases.\tविशेष स्थितियों में कुछ अन्य परीक्षणों की भी जरूरत होती है. \n",
            "Encrypt all my data\tमेरा सभी डेटा एन्क्रिप्ट करें\n",
            "Group By...\tइस आधार पर समूहीकृत\n",
            "It is now widening its boundaries and it may invade the so - called invisible world before long and help us to understand this purpose of life in its widest sense, or at least give us some glimpses which illumine the problem of human existence.\tअब यह अपनी सीमाओं को फैला रहा है और हो सकता है कि इसका हमला हमारी उस दुनिया पर हो, जिसे अदृश्य कहा जाता है और जिंदगी के मकसद को इसके बड़े बड़े अर्थ में समझने में हमारी मदद करे या कम से कम कुछ ऐसी रोशनी दे, जिससे मनुष्य के अस्तित्व की समस्याएं हल हो सकें. \n",
            "Israelis are beginning to note the change on the Palestinian side. Former Mossad head Ephraim Halevy has commented on “the buds of Palestinian recognition” of the mistake in turning to violence. The chief of Israel 's Ground Forces Command, Yiftah Ron - Tal, went further and in November predicted within months “a decisive victory” for Israel.\tइजरायल के लोग फिलीस्तीनी ओर से हो रहे परिवर्तन पर नजर रखे हैं। मोसाद के पूर्व प्रमुख एफ्रेम हेल्वी ने टिप्पणी की है कि फिलीस्तीनी हिंसा की ओर प्रवृत्त होने की भूल को स्वीकार कर रहे हैं। इजरायल की सेना के प्रमुख यिफ्ताह रोन ताल ने इससे आगे बढ़ते हुये कहा नवम्बर में भविष्यवाणी की कि कुछ ही महीनों में इजरायल को निर्णायक विजय प्राप्त हो जायेगी। \n",
            "Its hold on the extreme right prompted a hitherto cautious Adolf Hitler to endorse the book, refer often to it and make it a centerpiece of Nazi Jew - hatred and a key argument in justifying his murder of 6 million Jews. In the words of historian Norman Cohn, The Protocols served as the Nazis' “warrant for genocide. ” < s > The forgery has since polluted public life wherever it appeared; as Italian novelist Umberto Eco explains, it was “self - generating; a blueprint that migrated from one conspiracy to another. ”\tधुर दक्षिणी विचारधारा पर इसकी पकड़ इस बात से साबित होती है कि एल्डोफ हिटलर ने न सिर्फ इस पुस्तक का अनमोदन किया बल्कि इसे अपनी नाजी यहूदी-विरोधी विचारधारा का मुख्य आधार भी बनाया और इसे लगभग 60 लाख यहुदियो के वध को को सही साबित करने में भी यह हिटलर एक महत्वपूर्ण तर्क था। इतिहासकार नार्मन फोहन के शब्दों में “ द प्रोटोकाल्स ने नाजियो के लिए, ” नरसंहार के वारंट का काम किया। \n",
            "Examples of art deco construction can be found around Marine Drive and Oval Ground areas.\tआर्ट डेको शैली के निर्माण मैरीन ड्राइव और ओवल मैदान के किनारे दिखाई देते हैं। \n",
            "and put it in our cheeks.\tऔर अपने गालों में डाल लेते हैं। \n",
            "As for the other derivatives of sulphur, the country 's needs of iron, copper, sodium, etc. sulphates were limited, and the production achieved after the war was generally adequate.\tजहां तक गंधक के अन्य उत्पादों का प्रश्न है, देश में लोहे, तांबे, सोडियम, सल्फेट आदि की आवश्यकता सीमित थी और युद्धोपरांत हुआ उत्पादन सामान्य रूप से पर्याप्त था. \n",
            "Bhuriwale\tभुरीवाले\n",
            "its complicated functioning is defined thus in a popular riddle: Zरचना - प्रकिया\tको उसने एक पहेली में यों बांधा है. \n",
            "Adams County, Indiana\tएडम्स काउंटी, इंडियाना\n",
            "They 've just won four government contracts to build off their 100 ambulances,\tहाल ही में उन्हें सरकारी ठेका मिला है करीब सौ नई अम्बुलेन्स बनाने का, \n",
            "Empathy default download folder Empathy\tतयशुदा डाउनलोड फ़ोल्डर\n",
            "Khanate\tख़ान\n",
            "National Atmospheric Research Laboratory\tराष्ट्रीय वायुमण्डलीय अनुसंधान प्रयोगशाला\n",
            "Adoor Gopalakrishnan\tअदूर गोपालकृष्णन\n",
            "Natural language\tप्राकृतिक भाषा\n",
            "Unexpected icon chunk in animation\tएनीमेशन में अप्रत्याशित चिह्न चंक\n",
            "Gorkha National Liberation Front\tगोर्खा राष्ट्रीय मुक्ति मोर्चा\n"
          ],
          "name": "stdout"
        }
      ]
    },
    {
      "cell_type": "code",
      "metadata": {
        "id": "Wq1-y6JAhdIZ",
        "colab_type": "code",
        "colab": {}
      },
      "source": [
        "# Import required packages\n",
        "from __future__ import unicode_literals, print_function, division\n",
        "from io import open\n",
        "import unicodedata\n",
        "import string\n",
        "import re\n",
        "import random\n",
        "\n",
        "import torch\n",
        "import torch.nn as nn\n",
        "from torch import optim\n",
        "import torch.nn.functional as F\n",
        "\n",
        "device = torch.device(\"cuda\" if torch.cuda.is_available() else \"cpu\")"
      ],
      "execution_count": 0,
      "outputs": []
    },
    {
      "cell_type": "code",
      "metadata": {
        "id": "sdItkemNhhkN",
        "colab_type": "code",
        "colab": {}
      },
      "source": [
        "# Defining language class\n",
        "\n",
        "SOS_token = 0\n",
        "EOS_token = 1\n",
        "\n",
        "\n",
        "class Lang:\n",
        "    def __init__(self, name):\n",
        "        self.name = name\n",
        "        self.word2index = {}\n",
        "        self.word2count = {}\n",
        "        self.index2word = {0: \"SOS\", 1: \"EOS\"}\n",
        "        self.n_words = 2  # Count SOS and EOS\n",
        "\n",
        "    def addSentence(self, sentence):\n",
        "        for word in sentence.split(' '):\n",
        "            self.addWord(word)\n",
        "\n",
        "    def addWord(self, word):\n",
        "        if word not in self.word2index:\n",
        "            self.word2index[word] = self.n_words\n",
        "            self.word2count[word] = 1\n",
        "            self.index2word[self.n_words] = word\n",
        "            self.n_words += 1\n",
        "        else:\n",
        "            self.word2count[word] += 1\n"
      ],
      "execution_count": 0,
      "outputs": []
    },
    {
      "cell_type": "code",
      "metadata": {
        "id": "w8svbdBZhjnR",
        "colab_type": "code",
        "colab": {}
      },
      "source": [
        "# Turn a Unicode string to plain ASCII, thanks to\n",
        "# http://stackoverflow.com/a/518232/2809427\n",
        "def unicodeToAscii(s):\n",
        "    return ''.join(\n",
        "        c for c in unicodedata.normalize('NFD', s)\n",
        "        if unicodedata.category(c) != 'Mn'\n",
        "    )\n",
        "\n",
        "# Lowercase, trim, and remove non-letter characters\n",
        "\n",
        "\n",
        "# Normalizing sentences of both English and Hindi \n",
        "def normalizeString(s):\n",
        "    s = s.lower().strip()\n",
        "    s = re.sub('\\s*_\\s*', '', s)\n",
        "    s = re.sub(r'\\([^)]*\\)', '', s)\n",
        "    s = re.sub(r\"([.!?])\", r\" \\1\", s)\n",
        "    table = str.maketrans('', '', string.punctuation)\n",
        "    s = s.translate(table)\n",
        "    s = re.sub(r\"[….!?]+\", r\" \", s).strip()\n",
        "    return s"
      ],
      "execution_count": 0,
      "outputs": []
    },
    {
      "cell_type": "code",
      "metadata": {
        "id": "u10-hkoRhmld",
        "colab_type": "code",
        "colab": {}
      },
      "source": [
        "def readLangs(lang1, lang2, reverse=False):\n",
        "    print(\"Reading lines...\")\n",
        "\n",
        "    # Read the file and split into lines\n",
        "    lines = open('parallel/eng-hin_gnhind.txt',encoding='utf-8').\\\n",
        "        read().strip().split('\\n')\n",
        "\n",
        "    # Split every line into pairs and normalize\n",
        "    pairs = [[normalizeString(s) for s in l.split('\\t')] for l in lines]\n",
        "\n",
        "    # Reverse pairs, make Lang instances\n",
        "    if reverse:\n",
        "        pairs = [list(reversed(p)) for p in pairs]\n",
        "        input_lang = Lang(lang2)\n",
        "        output_lang = Lang(lang1)\n",
        "    else:\n",
        "        input_lang = Lang(lang1)\n",
        "        output_lang = Lang(lang2)\n",
        "\n",
        "    return input_lang, output_lang, pairs"
      ],
      "execution_count": 0,
      "outputs": []
    },
    {
      "cell_type": "code",
      "metadata": {
        "id": "EJh2UplEhpFt",
        "colab_type": "code",
        "colab": {}
      },
      "source": [
        "MAX_LENGTH = 15\n",
        "\n",
        "\n",
        "def filterPair(p):\n",
        "    return len(p[0].split(' ')) < MAX_LENGTH and len(p[1].split(' ')) < MAX_LENGTH\n",
        "\n",
        "def filterPairs(pairs):\n",
        "    return [pair for pair in pairs if filterPair(pair)]"
      ],
      "execution_count": 0,
      "outputs": []
    },
    {
      "cell_type": "code",
      "metadata": {
        "id": "cy0tXjq5hrJ6",
        "colab_type": "code",
        "outputId": "951865e4-7435-4e4e-913d-2fe1ecf49e45",
        "colab": {
          "base_uri": "https://localhost:8080/",
          "height": 151
        }
      },
      "source": [
        "def prepareData(lang1, lang2, reverse=False):\n",
        "    input_lang, output_lang, pairs = readLangs(lang1, lang2, reverse)\n",
        "    print(\"Read %s sentence pairs\" % len(pairs))\n",
        "    pairs = filterPairs(pairs)\n",
        "    print(\"Trimmed to %s sentence pairs\" % len(pairs))\n",
        "    print(\"Counting words...\")\n",
        "    for pair in pairs:\n",
        "        input_lang.addSentence(pair[0])\n",
        "        output_lang.addSentence(pair[1])\n",
        "    print(\"Counted words:\")\n",
        "    print(input_lang.name, input_lang.n_words)\n",
        "    print(output_lang.name, output_lang.n_words)\n",
        "    return input_lang, output_lang, pairs\n",
        "\n",
        "\n",
        "input_lang, output_lang, pairs = prepareData('eng', 'hin', False)\n",
        "print(random.choice(pairs))"
      ],
      "execution_count": 0,
      "outputs": [
        {
          "output_type": "stream",
          "text": [
            "Reading lines...\n",
            "Read 419591 sentence pairs\n",
            "Trimmed to 324580 sentence pairs\n",
            "Counting words...\n",
            "Counted words:\n",
            "eng 54515\n",
            "hin 69153\n",
            "['custom binary', 'मनपसंद एलार्मः']\n"
          ],
          "name": "stdout"
        }
      ]
    },
    {
      "cell_type": "code",
      "metadata": {
        "id": "L2W6WlqN68MF",
        "colab_type": "code",
        "outputId": "8b5ec3b4-1566-4798-e989-73bc35965448",
        "colab": {
          "base_uri": "https://localhost:8080/",
          "height": 50
        }
      },
      "source": [
        "random.choice(pairs)"
      ],
      "execution_count": 0,
      "outputs": [
        {
          "output_type": "execute_result",
          "data": {
            "text/plain": [
              "['because open market purchase would have made the acquisition costlier',\n",
              " 'क्योंकि सीधे बाजार से खरीदना मंहगा पड़']"
            ]
          },
          "metadata": {
            "tags": []
          },
          "execution_count": 10
        }
      ]
    },
    {
      "cell_type": "code",
      "metadata": {
        "id": "qnJ-0IFUhxzo",
        "colab_type": "code",
        "colab": {}
      },
      "source": [
        "%matplotlib inline\n",
        "class EncoderRNN(nn.Module):\n",
        "    def __init__(self, input_size, hidden_size):\n",
        "        super(EncoderRNN, self).__init__()\n",
        "        self.hidden_size = hidden_size\n",
        "        self.embedding = nn.Embedding(input_size, hidden_size)\n",
        "        self.lstm = nn.LSTM(hidden_size, hidden_size, num_layers = 2, bidirectional = True)\n",
        "\n",
        "    def forward(self, input, hidden):\n",
        "        embedded = self.embedding(input).view(1, 1, -1)\n",
        "        output = embedded\n",
        "        output, hidden = self.lstm(output, hidden)\n",
        "        forward_output, backward_output = output[:, :, :self.hidden_size], output[:, :, self.hidden_size:]\n",
        "        output = torch.cat((forward_output, backward_output))\n",
        "        return output, hidden\n",
        "\n",
        "    def initHidden(self):\n",
        "        return (torch.zeros(4, 1, self.hidden_size, device=device), torch.zeros(4, 1, self.hidden_size, device=device))"
      ],
      "execution_count": 0,
      "outputs": []
    },
    {
      "cell_type": "code",
      "metadata": {
        "id": "jnGIZcBmh4sB",
        "colab_type": "code",
        "colab": {}
      },
      "source": [
        "%matplotlib inline\n",
        "class DecoderRNN(nn.Module):\n",
        "    def __init__(self, hidden_size, output_size):\n",
        "        super(DecoderRNN, self).__init__()\n",
        "        self.hidden_size = hidden_size\n",
        "\n",
        "        self.embedding = nn.Embedding(output_size, hidden_size)\n",
        "        self.gru = nn.GRU(hidden_size, hidden_size)\n",
        "        self.out = nn.Linear(hidden_size, output_size)\n",
        "        self.softmax = nn.LogSoftmax(dim=1)\n",
        "\n",
        "    def forward(self, input, hidden):\n",
        "        output = self.embedding(input).view(1, 1, -1)\n",
        "        output = F.relu(output)\n",
        "        output, hidden = self.gru(output, hidden)\n",
        "        output = self.softmax(self.out(output[0]))\n",
        "        return output, hidden\n",
        "\n",
        "    def initHidden(self):\n",
        "        return torch.zeros(1, 1, self.hidden_size, device=device)"
      ],
      "execution_count": 0,
      "outputs": []
    },
    {
      "cell_type": "code",
      "metadata": {
        "id": "ZRvz5oqrh5FP",
        "colab_type": "code",
        "colab": {}
      },
      "source": [
        "%matplotlib inline\n",
        "class AttnDecoderRNN(nn.Module):\n",
        "    def __init__(self, hidden_size, output_size, dropout_p=0.1, max_length=MAX_LENGTH):\n",
        "        super(AttnDecoderRNN, self).__init__()\n",
        "        self.hidden_size = hidden_size\n",
        "        self.output_size = output_size\n",
        "        self.dropout_p = dropout_p\n",
        "        self.max_length = max_length\n",
        "\n",
        "        self.embedding = nn.Embedding(self.output_size, self.hidden_size)\n",
        "        self.attn = nn.Linear(self.hidden_size * 2, self.max_length)\n",
        "        self.attn_combine = nn.Linear(self.hidden_size * 2, self.hidden_size)\n",
        "        self.dropout = nn.Dropout(self.dropout_p)\n",
        "        self.lstm = nn.LSTM(self.hidden_size, self.hidden_size, num_layers = 2, bidirectional = True)\n",
        "        self.out = nn.Linear(self.hidden_size, self.output_size)\n",
        "\n",
        "    def forward(self, input, hidden, encoder_outputs):\n",
        "        embedded = self.embedding(input).view(1, 1, -1)\n",
        "        embedded = self.dropout(embedded)\n",
        "\n",
        "        attn_weights = F.softmax(\n",
        "            self.attn(torch.cat((embedded[0], hidden[0][0]), 1)), dim=1)\n",
        "        attn_applied = torch.bmm(attn_weights.unsqueeze(0),\n",
        "                                 encoder_outputs.unsqueeze(0))\n",
        "\n",
        "        output = torch.cat((embedded[0], attn_applied[0]), 1)\n",
        "        output = self.attn_combine(output).unsqueeze(0)\n",
        "\n",
        "        output = F.relu(output)\n",
        "        output, hidden = self.lstm(output, hidden)\n",
        "        \n",
        "        forward_output, backward_output = \\\n",
        "            output[:, :, :self.hidden_size], output[:, :, self.hidden_size:]\n",
        "        \n",
        "        output = torch.cat((forward_output, backward_output))\n",
        "        output = F.log_softmax(self.out(output[0]), dim=1)\n",
        "        return output, hidden, attn_weights\n",
        "\n",
        "    def initHidden(self):\n",
        "        return (torch.zeros(4, 1, self.hidden_size, device=device), torch.zeros(4, 1, self.hidden_size, device=device))"
      ],
      "execution_count": 0,
      "outputs": []
    },
    {
      "cell_type": "code",
      "metadata": {
        "id": "gphVcRMNh7zc",
        "colab_type": "code",
        "colab": {}
      },
      "source": [
        "def indexesFromSentence(lang, sentence):\n",
        "    %matplotlib inline\n",
        "    return [lang.word2index[word] for word in sentence.split(' ')]\n",
        "\n",
        "\n",
        "def tensorFromSentence(lang, sentence):\n",
        "    indexes = indexesFromSentence(lang, sentence)\n",
        "    indexes.append(EOS_token)\n",
        "    return torch.tensor(indexes, dtype=torch.long, device=device).view(-1, 1)\n",
        "\n",
        "\n",
        "def tensorsFromPair(pair):\n",
        "    input_tensor = tensorFromSentence(input_lang, pair[0])\n",
        "    target_tensor = tensorFromSentence(output_lang, pair[1])\n",
        "    return (input_tensor, target_tensor)"
      ],
      "execution_count": 0,
      "outputs": []
    },
    {
      "cell_type": "code",
      "metadata": {
        "id": "gV5CJa24h9sa",
        "colab_type": "code",
        "colab": {}
      },
      "source": [
        "%matplotlib inline\n",
        "teacher_forcing_ratio = 0.5\n",
        "\n",
        "\n",
        "def train(input_tensor, target_tensor, encoder, decoder, encoder_optimizer, decoder_optimizer, criterion, max_length=MAX_LENGTH):\n",
        "    encoder_hidden = encoder.initHidden()\n",
        "    %matplotlib inline\n",
        "\n",
        "    encoder_optimizer.zero_grad()\n",
        "    decoder_optimizer.zero_grad()\n",
        "\n",
        "    input_length = input_tensor.size(0)\n",
        "    target_length = target_tensor.size(0)\n",
        "\n",
        "    encoder_outputs = torch.zeros(max_length, encoder.hidden_size, device=device)\n",
        "\n",
        "    loss = 0\n",
        "\n",
        "    for ei in range(input_length):\n",
        "        encoder_output, encoder_hidden = encoder(\n",
        "            input_tensor[ei], encoder_hidden)\n",
        "        \n",
        "        encoder_outputs[ei] = encoder_output[0]\n",
        "\n",
        "    decoder_input = torch.tensor([[SOS_token]], device=device)\n",
        "\n",
        "    decoder_hidden = encoder_hidden\n",
        "\n",
        "    use_teacher_forcing = True if random.random() < teacher_forcing_ratio else False\n",
        "\n",
        "    if use_teacher_forcing:\n",
        "        # Teacher forcing: Feed the target as the next input\n",
        "        for di in range(target_length):\n",
        "            decoder_output, decoder_hidden, decoder_attention = decoder(\n",
        "                decoder_input, decoder_hidden, encoder_outputs)\n",
        "            loss += criterion(decoder_output, target_tensor[di])\n",
        "            decoder_input = target_tensor[di]  # Teacher forcing\n",
        "\n",
        "    else:\n",
        "        # Without teacher forcing: use its own predictions as the next input\n",
        "        for di in range(target_length):\n",
        "            decoder_output, decoder_hidden, decoder_attention = decoder(\n",
        "                decoder_input, decoder_hidden, encoder_outputs)\n",
        "            topv, topi = decoder_output.topk(1)\n",
        "            decoder_input = topi.squeeze().detach()  # detach from history as input\n",
        "\n",
        "            loss += criterion(decoder_output, target_tensor[di])\n",
        "            if decoder_input.item() == EOS_token:\n",
        "                break\n",
        "\n",
        "    loss.backward()\n",
        "\n",
        "    encoder_optimizer.step()\n",
        "    decoder_optimizer.step()\n",
        "\n",
        "    return loss.item() / target_length"
      ],
      "execution_count": 0,
      "outputs": []
    },
    {
      "cell_type": "code",
      "metadata": {
        "id": "peeE6JT7h_x4",
        "colab_type": "code",
        "colab": {}
      },
      "source": [
        "%matplotlib inline\n",
        "import time\n",
        "import math\n",
        "\n",
        "\n",
        "def asMinutes(s):\n",
        "    m = math.floor(s / 60)\n",
        "    s -= m * 60\n",
        "    return '%dm %ds' % (m, s)\n",
        "\n",
        "\n",
        "def timeSince(since, percent):\n",
        "    now = time.time()\n",
        "    s = now - since\n",
        "    es = s / (percent)\n",
        "    rs = es - s\n",
        "    return '%s (- %s)' % (asMinutes(s), asMinutes(rs))"
      ],
      "execution_count": 0,
      "outputs": []
    },
    {
      "cell_type": "code",
      "metadata": {
        "id": "eiqaw5_ZmYJk",
        "colab_type": "code",
        "outputId": "41d1aa2b-1bf5-40b1-af8c-6097fefb1a92",
        "colab": {
          "base_uri": "https://localhost:8080/",
          "height": 34
        }
      },
      "source": [
        "random.choice(pairs)"
      ],
      "execution_count": 0,
      "outputs": [
        {
          "output_type": "execute_result",
          "data": {
            "text/plain": [
              "['distance measures', 'खगोलीय दूरियों']"
            ]
          },
          "metadata": {
            "tags": []
          },
          "execution_count": 17
        }
      ]
    },
    {
      "cell_type": "code",
      "metadata": {
        "id": "oZODd7zMm7ua",
        "colab_type": "code",
        "outputId": "de10ad7f-05a8-4a53-81de-a4c58157b743",
        "colab": {
          "base_uri": "https://localhost:8080/",
          "height": 34
        }
      },
      "source": [
        "len(pairs)"
      ],
      "execution_count": 0,
      "outputs": [
        {
          "output_type": "execute_result",
          "data": {
            "text/plain": [
              "324580"
            ]
          },
          "metadata": {
            "tags": []
          },
          "execution_count": 18
        }
      ]
    },
    {
      "cell_type": "code",
      "metadata": {
        "id": "s9NBTahGiJWm",
        "colab_type": "code",
        "colab": {}
      },
      "source": [
        "%matplotlib inline\n",
        "def trainIters(encoder, decoder, n_epochs, learning_rate, print_every=50000, plot_every=50000):\n",
        "    %matplotlib inline\n",
        "    start = time.time()\n",
        "    plot_losses = []\n",
        "    print_loss_total = 0  # Reset every print_every\n",
        "    plot_loss_total = 0  # Reset every plot_every\n",
        "\n",
        "    encoder_optimizer = optim.SGD(encoder.parameters(), lr=learning_rate)\n",
        "    decoder_optimizer = optim.SGD(decoder.parameters(), lr=learning_rate)\n",
        "    training_pairs = [tensorsFromPair(pairs[i]) for i in range(len(pairs))]\n",
        "    criterion = nn.NLLLoss()\n",
        "    \n",
        "    n_iters = len(pairs)\n",
        "    for e in range(1, n_epochs + 1):\n",
        "        for iter in range(1, len(pairs) + 1):\n",
        "            training_pair = training_pairs[iter - 1]\n",
        "            input_tensor = training_pair[0]\n",
        "            target_tensor = training_pair[1]\n",
        "\n",
        "            loss = train(input_tensor, target_tensor, encoder,\n",
        "                        decoder, encoder_optimizer, decoder_optimizer, criterion)\n",
        "            print_loss_total += loss\n",
        "            plot_loss_total += loss\n",
        "\n",
        "            if iter % print_every == 0:\n",
        "                print_loss_avg = print_loss_total / print_every\n",
        "                print_loss_total = 0\n",
        "                print('%s (%d %d%%) %.4f' % (timeSince(start, iter / n_iters),\n",
        "                                            iter, iter / n_iters * 100, print_loss_avg))\n",
        "\n",
        "            if iter % plot_every == 0:\n",
        "                plot_loss_avg = plot_loss_total / plot_every\n",
        "                plot_losses.append(plot_loss_avg)\n",
        "                plot_loss_total = 0\n",
        "\n",
        "    showPlot(plot_losses)\n"
      ],
      "execution_count": 0,
      "outputs": []
    },
    {
      "cell_type": "code",
      "metadata": {
        "id": "NapCtOBwiLfS",
        "colab_type": "code",
        "colab": {}
      },
      "source": [
        "%matplotlib inline\n",
        "import matplotlib.pyplot as plt\n",
        "plt.switch_backend('agg')\n",
        "import matplotlib.ticker as ticker\n",
        "import numpy as np\n",
        "\n",
        "\n",
        "def showPlot(points):\n",
        "    %matplotlib inline\n",
        "    plt.figure()\n",
        "    fig, ax = plt.subplots()\n",
        "    # this locator puts ticks at regular intervals\n",
        "    loc = ticker.MultipleLocator(base=0.2)\n",
        "    ax.yaxis.set_major_locator(loc)\n",
        "    plt.plot(points)"
      ],
      "execution_count": 0,
      "outputs": []
    },
    {
      "cell_type": "code",
      "metadata": {
        "id": "baE-iOfZiNXM",
        "colab_type": "code",
        "colab": {}
      },
      "source": [
        "def evaluate(encoder, decoder, sentence, max_length=MAX_LENGTH):\n",
        "    %matplotlib inline\n",
        "    with torch.no_grad():\n",
        "        input_tensor = tensorFromSentence(input_lang, sentence)\n",
        "        input_length = input_tensor.size()[0]\n",
        "        encoder_hidden = encoder.initHidden()\n",
        "\n",
        "        encoder_outputs = torch.zeros(max_length, encoder.hidden_size, device=device)\n",
        "\n",
        "        for ei in range(input_length):\n",
        "            encoder_output, encoder_hidden = encoder(input_tensor[ei],\n",
        "                                                     encoder_hidden)\n",
        "            encoder_outputs[ei] += encoder_output[0, 0]\n",
        "\n",
        "        decoder_input = torch.tensor([[SOS_token]], device=device)  # SOS\n",
        "\n",
        "        decoder_hidden = encoder_hidden\n",
        "\n",
        "        decoded_words = []\n",
        "        decoder_attentions = torch.zeros(max_length, max_length)\n",
        "\n",
        "        for di in range(max_length):\n",
        "            decoder_output, decoder_hidden, decoder_attention = decoder(\n",
        "                decoder_input, decoder_hidden, encoder_outputs)\n",
        "            decoder_attentions[di] = decoder_attention.data\n",
        "            topv, topi = decoder_output.data.topk(1)\n",
        "            if topi.item() == EOS_token:\n",
        "                decoded_words.append('')\n",
        "                break\n",
        "            else:\n",
        "                decoded_words.append(output_lang.index2word[topi.item()])\n",
        "\n",
        "            decoder_input = topi.squeeze().detach()\n",
        "\n",
        "        return decoded_words, decoder_attentions[:di + 1]"
      ],
      "execution_count": 0,
      "outputs": []
    },
    {
      "cell_type": "code",
      "metadata": {
        "id": "IemLtNFLiP-z",
        "colab_type": "code",
        "colab": {}
      },
      "source": [
        "def evaluateRandomly(encoder, decoder, n=5):\n",
        "    from nltk.translate.bleu_score import sentence_bleu\n",
        "    %matplotlib inline\n",
        "    for i in range(n):\n",
        "        pair = random.choice(pairs)\n",
        "        print('English: ', pair[0])\n",
        "        print('Actual: ', pair[1])\n",
        "        output_words, attentions = evaluate(encoder, decoder, pair[0])\n",
        "        output_sentence = ' '.join(output_words)\n",
        "        print('Predicted: ', output_sentence)\n",
        "        act = pair[1].split()\n",
        "        pred = output_sentence.split()\n",
        "        print('Cumulative 1-gram: %f' % sentence_bleu([act], pred, weights=(1, 0, 0, 0)))\n",
        "        print('Cumulative 2-gram: %f' % sentence_bleu([act], pred, weights=(0.5, 0.5, 0, 0)))\n",
        "        print('Cumulative 3-gram: %f' % sentence_bleu([act], pred, weights=(0.33, 0.33, 0.33, 0)))\n",
        "        print('Cumulative 4-gram: %f' % sentence_bleu([act], pred, weights=(0.25, 0.25, 0.25, 0.25)))\n",
        "        score = sentence_bleu([act], pred)\n",
        "        print(score)\n",
        "        print('')"
      ],
      "execution_count": 0,
      "outputs": []
    },
    {
      "cell_type": "code",
      "metadata": {
        "id": "nbORoOHeiSY-",
        "colab_type": "code",
        "outputId": "447f53a5-9ae3-4910-b809-ac38498cb9fd",
        "colab": {
          "base_uri": "https://localhost:8080/",
          "height": 386
        }
      },
      "source": [
        "%matplotlib inline\n",
        "hidden_size = 256\n",
        "encoder1 = EncoderRNN(input_lang.n_words, hidden_size).to(device)\n",
        "attn_decoder1 = AttnDecoderRNN(hidden_size, output_lang.n_words, dropout_p=0.2).to(device)\n",
        "\n",
        "trainIters(encoder1, attn_decoder1, 1, print_every=50000, learning_rate=0.01)\n",
        "\n",
        "torch.save(encoder1.state_dict(),'encoder_nmt_lstmbidim_gnhind.pkl')\n",
        "torch.save(attn_decoder1.state_dict(),'decoder_nmt_lstmbidim_gnhind.pkl')"
      ],
      "execution_count": 0,
      "outputs": [
        {
          "output_type": "stream",
          "text": [
            "23m 0s (- 126m 19s) (50000 15%) 3.2120\n",
            "44m 39s (- 100m 18s) (100000 30%) 2.1519\n",
            "67m 9s (- 78m 10s) (150000 46%) 2.7204\n",
            "91m 29s (- 56m 59s) (200000 61%) 5.2511\n",
            "115m 30s (- 34m 27s) (250000 77%) 4.9018\n",
            "139m 33s (- 11m 26s) (300000 92%) 4.6720\n"
          ],
          "name": "stdout"
        },
        {
          "output_type": "display_data",
          "data": {
            "text/plain": [
              "<Figure size 432x288 with 0 Axes>"
            ]
          },
          "metadata": {
            "tags": []
          }
        },
        {
          "output_type": "display_data",
          "data": {
            "image/png": "[encoded data removed]",
            "text/plain": [
              "<Figure size 432x288 with 1 Axes>"
            ]
          },
          "metadata": {
            "tags": [],
            "needs_background": "light"
          }
        }
      ]
    },
    {
      "cell_type": "code",
      "metadata": {
        "id": "t5ko7l7T9Ec3",
        "colab_type": "code",
        "outputId": "1224adb4-0146-4467-f82f-5556f59f55f0",
        "colab": {
          "base_uri": "https://localhost:8080/",
          "height": 385
        }
      },
      "source": [
        "#Dint Save\n",
        "trainIters(encoder1, attn_decoder1, 1, print_every=50000, learning_rate=0.01)\n",
        "\n",
        "torch.save(encoder1.state_dict(),'encoder_nmt_lstmbidim_gnhind2.pkl')\n",
        "torch.save(attn_decoder1.state_dict(),'decoder_nmt_lstmbidim_gnhind2.pkl')"
      ],
      "execution_count": 0,
      "outputs": [
        {
          "output_type": "stream",
          "text": [
            "22m 48s (- 125m 12s) (50000 15%) 1.2537\n",
            "44m 5s (- 99m 1s) (100000 30%) 0.9362\n",
            "66m 21s (- 77m 14s) (150000 46%) 1.8131\n",
            "90m 47s (- 56m 33s) (200000 61%) 4.2648\n",
            "115m 35s (- 34m 29s) (250000 77%) 4.1000\n",
            "140m 16s (- 11m 29s) (300000 92%) 3.9786\n"
          ],
          "name": "stdout"
        },
        {
          "output_type": "display_data",
          "data": {
            "text/plain": [
              "<Figure size 432x288 with 0 Axes>"
            ]
          },
          "metadata": {
            "tags": []
          }
        },
        {
          "output_type": "display_data",
          "data": {
            "image/png": "[encoded data removed]",
            "text/plain": [
              "<Figure size 432x288 with 1 Axes>"
            ]
          },
          "metadata": {
            "tags": [],
            "needs_background": "light"
          }
        }
      ]
    },
    {
      "cell_type": "code",
      "metadata": {
        "id": "EcLk4pQpiwd-",
        "colab_type": "code",
        "outputId": "1134c502-3fda-482b-b7ed-dfd91977fc57",
        "colab": {
          "base_uri": "https://localhost:8080/",
          "height": 34
        }
      },
      "source": [
        "%matplotlib inline\n",
        "hidden_size = 256\n",
        "encoder1 = EncoderRNN(input_lang.n_words, hidden_size).to(device)\n",
        "attn_decoder1 = AttnDecoderRNN(hidden_size, output_lang.n_words, dropout_p=0.2).to(device)\n",
        "\n",
        "encoder1.load_state_dict(torch.load(\"encoder_nmt_lstmbidim_gnhind.pkl\"))\n",
        "attn_decoder1.load_state_dict(torch.load(\"decoder_nmt_lstmbidim_gnhind.pkl\"))"
      ],
      "execution_count": 0,
      "outputs": [
        {
          "output_type": "execute_result",
          "data": {
            "text/plain": [
              "<All keys matched successfully>"
            ]
          },
          "metadata": {
            "tags": []
          },
          "execution_count": 24
        }
      ]
    },
    {
      "cell_type": "code",
      "metadata": {
        "id": "SGFTVxZvJM14",
        "colab_type": "code",
        "outputId": "c337e9f5-21a1-4888-ebe5-4296ba8d753e",
        "colab": {
          "base_uri": "https://localhost:8080/",
          "height": 50
        }
      },
      "source": [
        "trainIters(encoder1, attn_decoder1, 1, print_every=50000, learning_rate=0.01)\n",
        "torch.save(encoder1.state_dict(),'encoder_nmt_lstmbidim_gnhind2.pkl')\n",
        "torch.save(attn_decoder1.state_dict(),'decoder_nmt_lstmbidim_gnhind2.pkl')"
      ],
      "execution_count": 0,
      "outputs": [
        {
          "output_type": "stream",
          "text": [
            "29m 36s (- 162m 33s) (50000 15%) 1.2560\n",
            "56m 59s (- 128m 0s) (100000 30%) 0.9345\n"
          ],
          "name": "stdout"
        }
      ]
    },
    {
      "cell_type": "code",
      "metadata": {
        "id": "Lkh7u4BTAtsX",
        "colab_type": "code",
        "outputId": "10d9fdb6-dcde-4e04-e1e4-4392e0cb952f",
        "colab": {
          "base_uri": "https://localhost:8080/",
          "height": 382
        }
      },
      "source": [
        "%matplotlib inline\n",
        "hidden_size = 256\n",
        "encoder1 = EncoderRNN(input_lang.n_words, hidden_size).to(device)\n",
        "attn_decoder1 = AttnDecoderRNN(hidden_size, output_lang.n_words, dropout_p=0.2).to(device)\n",
        "\n",
        "encoder1.load_state_dict(torch.load(\"encoder_nmt_lstmbidim_gnhind2.pkl\"))\n",
        "attn_decoder1.load_state_dict(torch.load(\"decoder_nmt_lstmbidim_gnhind2.pkl\"))\n",
        "\n",
        "trainIters(encoder1, attn_decoder1, 1, print_every=50000, learning_rate=0.01)\n",
        "torch.save(encoder1.state_dict(),'encoder_nmt_lstmbidim_gnhind3.pkl')\n",
        "torch.save(attn_decoder1.state_dict(),'decoder_nmt_lstmbidim_gnhind3.pkl')"
      ],
      "execution_count": 0,
      "outputs": [
        {
          "output_type": "stream",
          "text": [
            "32m 13s (- 176m 58s) (50000 15%) 0.8138\n",
            "63m 39s (- 142m 58s) (100000 30%) 0.6531\n",
            "96m 9s (- 111m 54s) (150000 46%) 1.4979\n",
            "131m 31s (- 81m 55s) (200000 61%) 3.7284\n",
            "166m 58s (- 49m 48s) (250000 77%) 3.6034\n",
            "202m 31s (- 16m 35s) (300000 92%) 3.5133\n"
          ],
          "name": "stdout"
        },
        {
          "output_type": "display_data",
          "data": {
            "text/plain": [
              "<Figure size 432x288 with 0 Axes>"
            ]
          },
          "metadata": {
            "tags": []
          }
        },
        {
          "output_type": "display_data",
          "data": {
            "image/png": "[encoded data removed]",
            "text/plain": [
              "<Figure size 432x288 with 1 Axes>"
            ]
          },
          "metadata": {
            "tags": [],
            "needs_background": "light"
          }
        }
      ]
    },
    {
      "cell_type": "code",
      "metadata": {
        "id": "ieTZxaZ5l8UV",
        "colab_type": "code",
        "outputId": "dac98b77-c7a5-4ff4-9e49-5e466facc02b",
        "colab": {
          "base_uri": "https://localhost:8080/",
          "height": 34
        }
      },
      "source": [
        "%matplotlib inline\n",
        "hidden_size = 256\n",
        "encoder1 = EncoderRNN(input_lang.n_words, hidden_size).to(device)\n",
        "attn_decoder1 = AttnDecoderRNN(hidden_size, output_lang.n_words, dropout_p=0.2).to(device)\n",
        "\n",
        "encoder1.load_state_dict(torch.load(\"encoder_nmt_lstmbidim_gnhind3.pkl\"))\n",
        "attn_decoder1.load_state_dict(torch.load(\"decoder_nmt_lstmbidim_gnhind3.pkl\"))"
      ],
      "execution_count": 0,
      "outputs": [
        {
          "output_type": "execute_result",
          "data": {
            "text/plain": [
              "<All keys matched successfully>"
            ]
          },
          "metadata": {
            "tags": []
          },
          "execution_count": 23
        }
      ]
    },
    {
      "cell_type": "code",
      "metadata": {
        "id": "ztHSSpXql9Vu",
        "colab_type": "code",
        "outputId": "8766eb1d-5004-465f-8e4c-e8c2d5647395",
        "colab": {
          "base_uri": "https://localhost:8080/",
          "height": 382
        }
      },
      "source": [
        "trainIters(encoder1, attn_decoder1, 1, print_every=50000, learning_rate=0.01)\n",
        "torch.save(encoder1.state_dict(),'encoder_nmt_lstmbidim_gnhind4.pkl')\n",
        "torch.save(attn_decoder1.state_dict(),'decoder_nmt_lstmbidim_gnhind4.pkl')"
      ],
      "execution_count": 0,
      "outputs": [
        {
          "output_type": "stream",
          "text": [
            "23m 15s (- 127m 43s) (50000 15%) 0.6662\n",
            "45m 0s (- 101m 5s) (100000 30%) 0.5386\n",
            "67m 14s (- 78m 15s) (150000 46%) 1.3081\n",
            "91m 43s (- 57m 8s) (200000 61%) 3.3266\n",
            "116m 14s (- 34m 40s) (250000 77%) 3.2301\n",
            "140m 34s (- 11m 31s) (300000 92%) 3.1651\n"
          ],
          "name": "stdout"
        },
        {
          "output_type": "display_data",
          "data": {
            "text/plain": [
              "<Figure size 432x288 with 0 Axes>"
            ]
          },
          "metadata": {
            "tags": []
          }
        },
        {
          "output_type": "display_data",
          "data": {
            "image/png": "[encoded data removed]",
            "text/plain": [
              "<Figure size 432x288 with 1 Axes>"
            ]
          },
          "metadata": {
            "tags": [],
            "needs_background": "light"
          }
        }
      ]
    },
    {
      "cell_type": "code",
      "metadata": {
        "id": "KRzcZYV2MyH4",
        "colab_type": "code",
        "outputId": "357df5d4-bc8f-46f5-d45e-569ae3bde08e",
        "colab": {
          "base_uri": "https://localhost:8080/",
          "height": 382
        }
      },
      "source": [
        "trainIters(encoder1, attn_decoder1, 1, print_every=50000, learning_rate=0.01)\n",
        "torch.save(encoder1.state_dict(),'encoder_nmt_lstmbidim_gnhind5.pkl')\n",
        "torch.save(attn_decoder1.state_dict(),'decoder_nmt_lstmbidim_gnhind5.pkl')"
      ],
      "execution_count": 0,
      "outputs": [
        {
          "output_type": "stream",
          "text": [
            "22m 49s (- 125m 18s) (50000 15%) 0.5953\n",
            "44m 0s (- 98m 49s) (100000 30%) 0.4776\n",
            "66m 1s (- 76m 51s) (150000 46%) 1.1755\n",
            "90m 14s (- 56m 12s) (200000 61%) 3.0041\n",
            "114m 33s (- 34m 10s) (250000 77%) 2.9243\n",
            "138m 51s (- 11m 22s) (300000 92%) 2.8737\n"
          ],
          "name": "stdout"
        },
        {
          "output_type": "display_data",
          "data": {
            "text/plain": [
              "<Figure size 432x288 with 0 Axes>"
            ]
          },
          "metadata": {
            "tags": []
          }
        },
        {
          "output_type": "display_data",
          "data": {
            "image/png": "[encoded data removed]",
            "text/plain": [
              "<Figure size 432x288 with 1 Axes>"
            ]
          },
          "metadata": {
            "tags": [],
            "needs_background": "light"
          }
        }
      ]
    },
    {
      "cell_type": "code",
      "metadata": {
        "id": "sdvz5Lvy3oYL",
        "colab_type": "code",
        "outputId": "692d4a9f-9c78-4cd2-d1d3-0d4f90d526a6",
        "colab": {
          "base_uri": "https://localhost:8080/",
          "height": 151
        }
      },
      "source": [
        "sent1 = \"two dogs are running together through the grass\"\n",
        "sent2 = \"man in red shirt and black pants is standing on wooden bench\"\n",
        "sent3 = \"man in red jacket is sitting on rock\"\n",
        "sent4 = \"man is battling waves in purple boat while wearing rain gear\"\n",
        "sent5 = \"man in yellow suit is holding up cup while standing in snow\"\n",
        "sent6 = \"blonde horse and blonde girl in black are staring at fire in barrel\"\n",
        "sent7 = \"Two people and two horses watching fire\"\n",
        "sent8 = \"small pale bird down to examine and small white bird looks at small object\"\n",
        "\n",
        "output_words1, attentions1 = evaluate(encoder1, attn_decoder1, sent1.lower())\n",
        "output_words2, attentions2 = evaluate(encoder1, attn_decoder1, sent2.lower())\n",
        "output_words3, attentions3 = evaluate(encoder1, attn_decoder1, sent3.lower())\n",
        "output_words4, attentions4 = evaluate(encoder1, attn_decoder1, sent4.lower())\n",
        "output_words5, attentions5 = evaluate(encoder1, attn_decoder1, sent5.lower())\n",
        "output_words6, attentions6 = evaluate(encoder1, attn_decoder1, sent6.lower())\n",
        "output_words7, attentions7 = evaluate(encoder1, attn_decoder1, sent7.lower())\n",
        "output_words8, attentions8 = evaluate(encoder1, attn_decoder1, sent8.lower())\n",
        "\n",
        "output_sentence1 = ' '.join(output_words1)\n",
        "output_sentence2 = ' '.join(output_words2)\n",
        "output_sentence3 = ' '.join(output_words3)\n",
        "output_sentence4 = ' '.join(output_words4)\n",
        "output_sentence5 = ' '.join(output_words5)\n",
        "output_sentence6 = ' '.join(output_words6)\n",
        "output_sentence7 = ' '.join(output_words7)\n",
        "output_sentence8 = ' '.join(output_words8)\n",
        "\n",
        "\n",
        "print('Predicted1: ', output_sentence1)\n",
        "print('Predicted2: ', output_sentence2)\n",
        "print('Predicted3: ', output_sentence3)\n",
        "print('Predicted4: ', output_sentence4)\n",
        "print('Predicted5: ', output_sentence5)\n",
        "print('Predicted6: ', output_sentence6)\n",
        "print('Predicted7: ', output_sentence7)\n",
        "print('Predicted8: ', output_sentence8)"
      ],
      "execution_count": 0,
      "outputs": [
        {
          "output_type": "stream",
          "text": [
            "Predicted1:  दो से से दो से साथ हो \n",
            "Predicted2:  मृत्यु में में में और और में में में में में \n",
            "Predicted3:  लाल पर पर पर पर पर पर पर है \n",
            "Predicted4:  मुंबई में उनकी के में में में के में \n",
            "Predicted5:  इसमें में में के में में में में में में \n",
            "Predicted6:  तुर्की में में में और और और और की \n",
            "Predicted7:  दो लोग दो दो और दो \n",
            "Predicted8:  छोटा को छोटा छोटे छोटे पर छोटा और छोटे पर छोटा पर छोटा \n"
          ],
          "name": "stdout"
        }
      ]
    },
    {
      "cell_type": "code",
      "metadata": {
        "id": "o02vThqeCat6",
        "colab_type": "code",
        "outputId": "3e1becfe-a3da-434b-9c7c-baa309cb3da6",
        "colab": {
          "base_uri": "https://localhost:8080/",
          "height": 134
        }
      },
      "source": [
        "sent1 = \"two brown dogs are playing in the snow\"\n",
        "sent2 = \"a group of people are sitting on a bench\"\n",
        "sent3 = \"a man in a blue shirt and blue shorts is on the street\"\n",
        "sent4 = \"a football player in a red uniform is running\"\n",
        "sent5 = \"a woman and a woman are smiling and smiling\"\n",
        "sent6 = \"two dogs are running together through the grass\"\n",
        "# sent7 = \"a man in a is on a big wave\"\n",
        "sent8 = \"a men in a helmet rides a bike\"\n",
        "# sent9 = \"a man in a on a surfboard\"\n",
        "\n",
        "output_words1, attentions1 = evaluate(encoder1, attn_decoder1, sent1.lower())\n",
        "output_words2, attentions2 = evaluate(encoder1, attn_decoder1, sent2.lower())\n",
        "output_words3, attentions3 = evaluate(encoder1, attn_decoder1, sent3.lower())\n",
        "output_words4, attentions4 = evaluate(encoder1, attn_decoder1, sent4.lower())\n",
        "output_words5, attentions5 = evaluate(encoder1, attn_decoder1, sent5.lower())\n",
        "output_words6, attentions6 = evaluate(encoder1, attn_decoder1, sent6.lower())\n",
        "# output_words7, attentions7 = evaluate(encoder1, attn_decoder1, sent7.lower())\n",
        "output_words8, attentions8 = evaluate(encoder1, attn_decoder1, sent8.lower())\n",
        "# output_words9, attentions9 = evaluate(encoder1, attn_decoder1, sent9.lower())\n",
        "\n",
        "output_sentence1 = ' '.join(output_words1)\n",
        "output_sentence2 = ' '.join(output_words2)\n",
        "output_sentence3 = ' '.join(output_words3)\n",
        "output_sentence4 = ' '.join(output_words4)\n",
        "output_sentence5 = ' '.join(output_words5)\n",
        "output_sentence6 = ' '.join(output_words6)\n",
        "# output_sentence7 = ' '.join(output_words7)\n",
        "output_sentence8 = ' '.join(output_words8)\n",
        "# output_sentence9 = ' '.join(output_words9)\n",
        "\n",
        "\n",
        "print('Predicted1: ', output_sentence1)\n",
        "print('Predicted2: ', output_sentence2)\n",
        "print('Predicted3: ', output_sentence3)\n",
        "print('Predicted4: ', output_sentence4)\n",
        "print('Predicted5: ', output_sentence5)\n",
        "print('Predicted6: ', output_sentence6)\n",
        "# print('Predicted7: ', output_sentence7)\n",
        "print('Predicted8: ', output_sentence8)\n",
        "# print('Predicted9: ', output_sentence9)"
      ],
      "execution_count": 0,
      "outputs": [
        {
          "output_type": "stream",
          "text": [
            "Predicted1:  कुछ की की में की में हैं। \n",
            "Predicted2:  लोग एक लोग के लोग एक एक का हैं \n",
            "Predicted3:  एक नीला पर नीला और नीला पर एक नीला पर \n",
            "Predicted4:  एक में में में में एक में है \n",
            "Predicted5:  औरत और औरत औरत और औरत औरत औरत \n",
            "Predicted6:  दो दो से से के हो \n",
            "Predicted8:  एक एक में एक में एक \n"
          ],
          "name": "stdout"
        }
      ]
    },
    {
      "cell_type": "code",
      "metadata": {
        "id": "QzVbPPOWmZtl",
        "colab_type": "code",
        "colab": {}
      },
      "source": [
        ""
      ],
      "execution_count": 0,
      "outputs": []
    }
  ]
}